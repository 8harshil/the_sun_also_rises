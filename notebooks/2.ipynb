{
 "cells": [
  {
   "cell_type": "markdown",
   "id": "5b604a68",
   "metadata": {},
   "source": [
    "<div class=\"alert alert-block alert-success\">\n",
    "<h4><center>Harshil Patel (pmb5br@virginia.edu) DS 5001 Spring 2023</center></h4>\n",
    "</div>"
   ]
  },
  {
   "cell_type": "markdown",
   "id": "d411ad9f",
   "metadata": {},
   "source": [
    "<hr>"
   ]
  },
  {
   "cell_type": "markdown",
   "id": "8bccc2a9",
   "metadata": {},
   "source": [
    "<div class=\"alert alert-block alert-info\">\n",
    "<h3><center> The Sun Also Rises, by Ernest Hemingway</center></h3>\n",
    "</div>"
   ]
  },
  {
   "cell_type": "markdown",
   "id": "f20cbee6",
   "metadata": {},
   "source": [
    "<hr>"
   ]
  },
  {
   "cell_type": "markdown",
   "id": "d1413864",
   "metadata": {},
   "source": [
    "<div class=\"alert alert-block alert-warning\">\n",
    "<h4><center>Notebook 2: Content</center></h4> \n",
    "<ul>\n",
    "  <li>Examining Probability Features of term_str</li>\n",
    "  <li>Entropy Computation</li>\n",
    "  <li>Sentence Prediction</li>\n",
    "  <li>Implementing Ngram Language Models</li>\n",
    "  <li>Exploring Speculations</li>\n",
    "  <li>Text Generation</li>\n",
    "  <li>Analyzing Redundancy for each n-gram model</li>\n",
    "  <li>Part of Speech Tagging</li>\n",
    "  <li>Character Interaction Analysis</li>\n",
    "  <li>Relationship between Noun and Verb</li>\n",
    "</ul>\n",
    "    \n",
    "Tables saved - vocabprobabilityfeatures, LM1, LM2, LM3, pos\n",
    "    \n",
    "</div>"
   ]
  },
  {
   "cell_type": "markdown",
   "id": "e26b84c7",
   "metadata": {},
   "source": [
    "<hr>"
   ]
  },
  {
   "cell_type": "markdown",
   "id": "0d3fb4f5",
   "metadata": {},
   "source": [
    "### Config"
   ]
  },
  {
   "cell_type": "code",
   "execution_count": 1,
   "id": "ba04e1e7",
   "metadata": {},
   "outputs": [],
   "source": [
    "import pandas as pd\n",
    "import numpy as np"
   ]
  },
  {
   "cell_type": "code",
   "execution_count": 2,
   "id": "d0082334",
   "metadata": {},
   "outputs": [],
   "source": [
    "data_home = \"../data/output\"\n",
    "OHCO = ['chap_num', 'para_num', 'sent_num', 'token_num']"
   ]
  },
  {
   "cell_type": "code",
   "execution_count": 3,
   "id": "5b6bce5b",
   "metadata": {},
   "outputs": [],
   "source": [
    "TOKENS = pd.read_csv(f\"{data_home}/tokens.csv\", index_col=0)\n",
    "VOCAB = pd.read_csv(f\"{data_home}/vocab.csv\", index_col=0)"
   ]
  },
  {
   "cell_type": "code",
   "execution_count": 4,
   "id": "fbce1859",
   "metadata": {},
   "outputs": [
    {
     "data": {
      "text/html": [
       "<div>\n",
       "<style scoped>\n",
       "    .dataframe tbody tr th:only-of-type {\n",
       "        vertical-align: middle;\n",
       "    }\n",
       "\n",
       "    .dataframe tbody tr th {\n",
       "        vertical-align: top;\n",
       "    }\n",
       "\n",
       "    .dataframe thead th {\n",
       "        text-align: right;\n",
       "    }\n",
       "</style>\n",
       "<table border=\"1\" class=\"dataframe\">\n",
       "  <thead>\n",
       "    <tr style=\"text-align: right;\">\n",
       "      <th></th>\n",
       "      <th>para_num</th>\n",
       "      <th>sent_num</th>\n",
       "      <th>token_num</th>\n",
       "      <th>token_str</th>\n",
       "      <th>term_str</th>\n",
       "    </tr>\n",
       "    <tr>\n",
       "      <th>chap_num</th>\n",
       "      <th></th>\n",
       "      <th></th>\n",
       "      <th></th>\n",
       "      <th></th>\n",
       "      <th></th>\n",
       "    </tr>\n",
       "  </thead>\n",
       "  <tbody>\n",
       "    <tr>\n",
       "      <th>1</th>\n",
       "      <td>0</td>\n",
       "      <td>0</td>\n",
       "      <td>0</td>\n",
       "      <td>Robert</td>\n",
       "      <td>robert</td>\n",
       "    </tr>\n",
       "    <tr>\n",
       "      <th>1</th>\n",
       "      <td>0</td>\n",
       "      <td>0</td>\n",
       "      <td>1</td>\n",
       "      <td>Cohn</td>\n",
       "      <td>cohn</td>\n",
       "    </tr>\n",
       "    <tr>\n",
       "      <th>1</th>\n",
       "      <td>0</td>\n",
       "      <td>0</td>\n",
       "      <td>2</td>\n",
       "      <td>was</td>\n",
       "      <td>was</td>\n",
       "    </tr>\n",
       "    <tr>\n",
       "      <th>1</th>\n",
       "      <td>0</td>\n",
       "      <td>0</td>\n",
       "      <td>3</td>\n",
       "      <td>once</td>\n",
       "      <td>once</td>\n",
       "    </tr>\n",
       "    <tr>\n",
       "      <th>1</th>\n",
       "      <td>0</td>\n",
       "      <td>0</td>\n",
       "      <td>4</td>\n",
       "      <td>middleweight</td>\n",
       "      <td>middleweight</td>\n",
       "    </tr>\n",
       "  </tbody>\n",
       "</table>\n",
       "</div>"
      ],
      "text/plain": [
       "          para_num  sent_num  token_num     token_str      term_str\n",
       "chap_num                                                           \n",
       "1                0         0          0        Robert        robert\n",
       "1                0         0          1          Cohn          cohn\n",
       "1                0         0          2           was           was\n",
       "1                0         0          3          once          once\n",
       "1                0         0          4  middleweight  middleweight"
      ]
     },
     "execution_count": 4,
     "metadata": {},
     "output_type": "execute_result"
    }
   ],
   "source": [
    "TOKENS.head()"
   ]
  },
  {
   "cell_type": "code",
   "execution_count": 5,
   "id": "0a103cae",
   "metadata": {
    "scrolled": true
   },
   "outputs": [
    {
     "data": {
      "text/html": [
       "<div>\n",
       "<style scoped>\n",
       "    .dataframe tbody tr th:only-of-type {\n",
       "        vertical-align: middle;\n",
       "    }\n",
       "\n",
       "    .dataframe tbody tr th {\n",
       "        vertical-align: top;\n",
       "    }\n",
       "\n",
       "    .dataframe thead th {\n",
       "        text-align: right;\n",
       "    }\n",
       "</style>\n",
       "<table border=\"1\" class=\"dataframe\">\n",
       "  <thead>\n",
       "    <tr style=\"text-align: right;\">\n",
       "      <th></th>\n",
       "      <th>term_str</th>\n",
       "      <th>n</th>\n",
       "    </tr>\n",
       "    <tr>\n",
       "      <th>term_id</th>\n",
       "      <th></th>\n",
       "      <th></th>\n",
       "    </tr>\n",
       "  </thead>\n",
       "  <tbody>\n",
       "    <tr>\n",
       "      <th>0</th>\n",
       "      <td>the</td>\n",
       "      <td>4484</td>\n",
       "    </tr>\n",
       "    <tr>\n",
       "      <th>1</th>\n",
       "      <td>i</td>\n",
       "      <td>2334</td>\n",
       "    </tr>\n",
       "    <tr>\n",
       "      <th>2</th>\n",
       "      <td>and</td>\n",
       "      <td>2290</td>\n",
       "    </tr>\n",
       "    <tr>\n",
       "      <th>3</th>\n",
       "      <td>to</td>\n",
       "      <td>1590</td>\n",
       "    </tr>\n",
       "    <tr>\n",
       "      <th>4</th>\n",
       "      <td>a</td>\n",
       "      <td>1534</td>\n",
       "    </tr>\n",
       "  </tbody>\n",
       "</table>\n",
       "</div>"
      ],
      "text/plain": [
       "        term_str     n\n",
       "term_id               \n",
       "0            the  4484\n",
       "1              i  2334\n",
       "2            and  2290\n",
       "3             to  1590\n",
       "4              a  1534"
      ]
     },
     "execution_count": 5,
     "metadata": {},
     "output_type": "execute_result"
    }
   ],
   "source": [
    "VOCAB.head()"
   ]
  },
  {
   "cell_type": "code",
   "execution_count": 6,
   "id": "34729173",
   "metadata": {},
   "outputs": [
    {
     "data": {
      "text/plain": [
       "70377"
      ]
     },
     "execution_count": 6,
     "metadata": {},
     "output_type": "execute_result"
    }
   ],
   "source": [
    "len(TOKENS)"
   ]
  },
  {
   "cell_type": "code",
   "execution_count": 7,
   "id": "a74ef3aa",
   "metadata": {},
   "outputs": [
    {
     "data": {
      "text/plain": [
       "4710"
      ]
     },
     "execution_count": 7,
     "metadata": {},
     "output_type": "execute_result"
    }
   ],
   "source": [
    "len(VOCAB)"
   ]
  },
  {
   "cell_type": "code",
   "execution_count": 8,
   "id": "4a0185a3",
   "metadata": {},
   "outputs": [
    {
     "data": {
      "text/plain": [
       "['chap_num', 'para_num', 'sent_num', 'token_num']"
      ]
     },
     "execution_count": 8,
     "metadata": {},
     "output_type": "execute_result"
    }
   ],
   "source": [
    "OHCO"
   ]
  },
  {
   "cell_type": "markdown",
   "id": "4bb16e48",
   "metadata": {},
   "source": [
    "### Extract Probabilty Features (p, s, i, and h)"
   ]
  },
  {
   "cell_type": "code",
   "execution_count": 9,
   "id": "2bc38304",
   "metadata": {},
   "outputs": [],
   "source": [
    "n_tokens = VOCAB.n.sum()\n",
    "n_terms = VOCAB.n.count()\n",
    "VOCAB['p'] = VOCAB['n'] / n_tokens\n",
    "VOCAB['s'] = 1/VOCAB['p']\n",
    "VOCAB['i'] = np.log2(1/VOCAB['p'])\n",
    "VOCAB['h'] = VOCAB['p'] * VOCAB['i']"
   ]
  },
  {
   "cell_type": "code",
   "execution_count": 10,
   "id": "8f1e444c",
   "metadata": {
    "scrolled": true
   },
   "outputs": [
    {
     "data": {
      "text/html": [
       "<div>\n",
       "<style scoped>\n",
       "    .dataframe tbody tr th:only-of-type {\n",
       "        vertical-align: middle;\n",
       "    }\n",
       "\n",
       "    .dataframe tbody tr th {\n",
       "        vertical-align: top;\n",
       "    }\n",
       "\n",
       "    .dataframe thead th {\n",
       "        text-align: right;\n",
       "    }\n",
       "</style>\n",
       "<table border=\"1\" class=\"dataframe\">\n",
       "  <thead>\n",
       "    <tr style=\"text-align: right;\">\n",
       "      <th></th>\n",
       "      <th>term_str</th>\n",
       "      <th>n</th>\n",
       "      <th>p</th>\n",
       "      <th>s</th>\n",
       "      <th>i</th>\n",
       "      <th>h</th>\n",
       "    </tr>\n",
       "    <tr>\n",
       "      <th>term_id</th>\n",
       "      <th></th>\n",
       "      <th></th>\n",
       "      <th></th>\n",
       "      <th></th>\n",
       "      <th></th>\n",
       "      <th></th>\n",
       "    </tr>\n",
       "  </thead>\n",
       "  <tbody>\n",
       "    <tr>\n",
       "      <th>0</th>\n",
       "      <td>the</td>\n",
       "      <td>4484</td>\n",
       "      <td>0.063714</td>\n",
       "      <td>15.695138</td>\n",
       "      <td>3.972246</td>\n",
       "      <td>0.253088</td>\n",
       "    </tr>\n",
       "    <tr>\n",
       "      <th>1</th>\n",
       "      <td>i</td>\n",
       "      <td>2334</td>\n",
       "      <td>0.033164</td>\n",
       "      <td>30.152956</td>\n",
       "      <td>4.914228</td>\n",
       "      <td>0.162977</td>\n",
       "    </tr>\n",
       "    <tr>\n",
       "      <th>2</th>\n",
       "      <td>and</td>\n",
       "      <td>2290</td>\n",
       "      <td>0.032539</td>\n",
       "      <td>30.732314</td>\n",
       "      <td>4.941685</td>\n",
       "      <td>0.160798</td>\n",
       "    </tr>\n",
       "    <tr>\n",
       "      <th>3</th>\n",
       "      <td>to</td>\n",
       "      <td>1590</td>\n",
       "      <td>0.022593</td>\n",
       "      <td>44.262264</td>\n",
       "      <td>5.468005</td>\n",
       "      <td>0.123537</td>\n",
       "    </tr>\n",
       "    <tr>\n",
       "      <th>4</th>\n",
       "      <td>a</td>\n",
       "      <td>1534</td>\n",
       "      <td>0.021797</td>\n",
       "      <td>45.878096</td>\n",
       "      <td>5.519734</td>\n",
       "      <td>0.120313</td>\n",
       "    </tr>\n",
       "    <tr>\n",
       "      <th>5</th>\n",
       "      <td>you</td>\n",
       "      <td>1178</td>\n",
       "      <td>0.016738</td>\n",
       "      <td>59.742784</td>\n",
       "      <td>5.900693</td>\n",
       "      <td>0.098768</td>\n",
       "    </tr>\n",
       "    <tr>\n",
       "      <th>6</th>\n",
       "      <td>was</td>\n",
       "      <td>1165</td>\n",
       "      <td>0.016554</td>\n",
       "      <td>60.409442</td>\n",
       "      <td>5.916702</td>\n",
       "      <td>0.097943</td>\n",
       "    </tr>\n",
       "    <tr>\n",
       "      <th>7</th>\n",
       "      <td>it</td>\n",
       "      <td>1155</td>\n",
       "      <td>0.016412</td>\n",
       "      <td>60.932468</td>\n",
       "      <td>5.929139</td>\n",
       "      <td>0.097307</td>\n",
       "    </tr>\n",
       "    <tr>\n",
       "      <th>8</th>\n",
       "      <td>of</td>\n",
       "      <td>1125</td>\n",
       "      <td>0.015985</td>\n",
       "      <td>62.557333</td>\n",
       "      <td>5.967107</td>\n",
       "      <td>0.095386</td>\n",
       "    </tr>\n",
       "    <tr>\n",
       "      <th>9</th>\n",
       "      <td>he</td>\n",
       "      <td>1088</td>\n",
       "      <td>0.015460</td>\n",
       "      <td>64.684743</td>\n",
       "      <td>6.015354</td>\n",
       "      <td>0.092995</td>\n",
       "    </tr>\n",
       "  </tbody>\n",
       "</table>\n",
       "</div>"
      ],
      "text/plain": [
       "        term_str     n         p          s         i         h\n",
       "term_id                                                        \n",
       "0            the  4484  0.063714  15.695138  3.972246  0.253088\n",
       "1              i  2334  0.033164  30.152956  4.914228  0.162977\n",
       "2            and  2290  0.032539  30.732314  4.941685  0.160798\n",
       "3             to  1590  0.022593  44.262264  5.468005  0.123537\n",
       "4              a  1534  0.021797  45.878096  5.519734  0.120313\n",
       "5            you  1178  0.016738  59.742784  5.900693  0.098768\n",
       "6            was  1165  0.016554  60.409442  5.916702  0.097943\n",
       "7             it  1155  0.016412  60.932468  5.929139  0.097307\n",
       "8             of  1125  0.015985  62.557333  5.967107  0.095386\n",
       "9             he  1088  0.015460  64.684743  6.015354  0.092995"
      ]
     },
     "execution_count": 10,
     "metadata": {},
     "output_type": "execute_result"
    }
   ],
   "source": [
    "VOCAB.sort_values('p', ascending=False).head(10)"
   ]
  },
  {
   "cell_type": "markdown",
   "id": "11fe7403",
   "metadata": {},
   "source": [
    "### Compute Entropy of the model"
   ]
  },
  {
   "cell_type": "code",
   "execution_count": 11,
   "id": "fbbb6bb2",
   "metadata": {},
   "outputs": [],
   "source": [
    "H = VOCAB.h.sum()"
   ]
  },
  {
   "cell_type": "code",
   "execution_count": 12,
   "id": "6590c0f9",
   "metadata": {},
   "outputs": [
    {
     "data": {
      "text/plain": [
       "8.796463077558032"
      ]
     },
     "execution_count": 12,
     "metadata": {},
     "output_type": "execute_result"
    }
   ],
   "source": [
    "H"
   ]
  },
  {
   "cell_type": "code",
   "execution_count": 13,
   "id": "85596b75",
   "metadata": {},
   "outputs": [],
   "source": [
    "smooth = VOCAB['p'].min()"
   ]
  },
  {
   "cell_type": "code",
   "execution_count": 14,
   "id": "67ab2050",
   "metadata": {},
   "outputs": [],
   "source": [
    "def predict_sentence(sent_str):\n",
    "    tokens = pd.DataFrame(sent_str.lower().split(), columns=['term_str'])\n",
    "    tokens = tokens.merge(VOCAB, on='term_str', how='left')\n",
    "    tokens.loc[tokens['p'].isna(), 'p'] = [smooth]\n",
    "    p = tokens['p'].product()\n",
    "\n",
    "    print(\"p('{}') = {}\".format(sent_str, p))"
   ]
  },
  {
   "cell_type": "code",
   "execution_count": 15,
   "id": "0d7d1154",
   "metadata": {
    "scrolled": false
   },
   "outputs": [
    {
     "name": "stdout",
     "output_type": "stream",
     "text": [
      "p('Robert Cohn') = 5.06367743057242e-06\n",
      "p('middleweight boxing') = 4.2399212935415e-09\n",
      "p('read papers') = 1.3123565908580833e-07\n",
      "p('playing football') = 1.211406083869e-08\n",
      "p('said to her') = 1.0178739052193677e-06\n",
      "p('said to him') = 1.877118110924029e-06\n"
     ]
    }
   ],
   "source": [
    "predict_sentence('Robert Cohn')\n",
    "predict_sentence('middleweight boxing')\n",
    "predict_sentence(\"read papers\")\n",
    "predict_sentence(\"playing football\")\n",
    "predict_sentence(\"said to her\")\n",
    "predict_sentence('said to him')"
   ]
  },
  {
   "cell_type": "markdown",
   "id": "fc9b8840",
   "metadata": {},
   "source": [
    "Firstly, we can observe that the name \"Robert Cohn\" has a higher probability (5.06e-6) than phrases like \"middleweight boxing\" (4.24e-9) or \"playing football\" (1.21e-8). This suggests that the character Robert Cohn plays a significant role in the novel, and his name appears frequently in the text. Additionally, we can see that the probability of the phrases \"said to her\" (1.02e-6) and \"said to him\" (1.88e-6) are both higher than the probability of phrases like \"middleweight boxing\" or \"playing football\". This suggests that dialogue between characters is an important aspect of the novel, and there may be many instances where characters are talking to each other. Finally, we can see that the probability of the phrase \"read papers\" (1.31e-7) is higher than the probability of phrases like \"middleweight boxing\" or \"playing football\", but lower than the probability of phrases like \"said to her\" or \"said to him\". This suggests that reading is likely a significant activity in the novel, but not as important as dialogue between characters. Overall, these language model probabilities provide some insight into the important characters, activities, and themes in \"The Sun Also Rises\"."
   ]
  },
  {
   "cell_type": "code",
   "execution_count": 16,
   "id": "de6f8334",
   "metadata": {},
   "outputs": [
    {
     "data": {
      "text/plain": [
       "28.000000000000004"
      ]
     },
     "execution_count": 16,
     "metadata": {},
     "output_type": "execute_result"
    }
   ],
   "source": [
    "Hmax = np.log2(n_terms)\n",
    "R = 1 - (H/Hmax)\n",
    "round(R, 2) * 100"
   ]
  },
  {
   "cell_type": "markdown",
   "id": "6be47bd0",
   "metadata": {},
   "source": [
    "Entropy, or \"Shannon Entropy,\" is a measure of the unpredictability or uncertainty of a system. In our lecture, we covered multiple ways to understand entropy. It can be seen as a property of the probability distribution of a random variable, a measure of uncertainty about the outcome of an RV, or the degree of equiprobability. Additionally, it can represent the average minimum message length required to re-encode messages, the average number of decisions needed to produce an outcome, the size of the search space of possible values, or the degree of surprise upon obtaining a result. These different perspectives provide a comprehensive understanding of entropy and its applications in information theory, physics, and statistics. In the following section, we will explore the entropy of our models."
   ]
  },
  {
   "cell_type": "markdown",
   "id": "697be6c4",
   "metadata": {},
   "source": [
    "The entropy of the entire model is around 8.79%, which is a relatively low entropy. This means that there is a low surprise for the results.\n",
    "\n",
    "The redundancy is a normalizing measure. The redundancy of the English language used in \"The Sun Also Rises\" is 28%. This is lower than the Shannon's estimate for English language as in general, which is supposed to be at around 50%."
   ]
  },
  {
   "cell_type": "code",
   "execution_count": 17,
   "id": "7821d957",
   "metadata": {},
   "outputs": [],
   "source": [
    "import pandas as pd\n",
    "import numpy as np\n",
    "\n",
    "class NgramCounter():\n",
    "    \"\"\"A class to generate tables of ngram tokens and types from a list of sentences.\"\"\"\n",
    "    \n",
    "    unk_sign = '<UNK>'\n",
    "    sent_pad_signs = ['<s>','</s>']\n",
    "        \n",
    "    def __init__(self, sents:[], vocab:[], n:int=3):\n",
    "        self.sents = sents # Expected to be normalized\n",
    "        self.vocab = vocab # Can be extracted from another corpus\n",
    "        self.n = n\n",
    "        self.widx = [f'w{i}' for i in range(self.n)] # Used for cols and index names\n",
    "        \n",
    "    def generate(self):\n",
    "        \n",
    "        # Convert sentence list to dataframe\n",
    "        self.S = pd.DataFrame(dict(sent_str=self.sents))\n",
    "            \n",
    "        # Pad sentences \n",
    "        pad = (self.sent_pad_signs[0] + ' ') *  (self.n - 1)\n",
    "        self.I = (pad + self.S.sent_str + ' ' + self.sent_pad_signs[1])\\\n",
    "            .str.split(expand=True).stack().to_frame('w0')\n",
    "        \n",
    "        # Set index names\n",
    "        self.I.index.names = ['sent_num', 'token_num']\n",
    "        \n",
    "        # Remove OOV terms\n",
    "        self.I.loc[~self.I.w0.isin(self.vocab + self.sent_pad_signs), 'w0'] = self.unk_sign\n",
    "\n",
    "        # Get sentence lengths (these will include pads)\n",
    "        self.S['len'] = self.I.groupby('sent_num').w0.count()\n",
    "                \n",
    "        # Add w columns\n",
    "        for i in range(1, self.n):\n",
    "            self.I[f'w{i}'] = self.I[f\"w{i-1}\"].shift(-1)         \n",
    "        \n",
    "        # Generate ngrams\n",
    "        self.NG = []\n",
    "        for i in range(self.n):\n",
    "            self.NG.append(self.I.iloc[:, :i+1].copy())\n",
    "\n",
    "        # Remove spurious rows\n",
    "        self.NG[i] = self.NG[i].dropna()\n",
    "                                \n",
    "        # Generate raw ngram counts and MLEs\n",
    "        self.LM = []\n",
    "        for i in range(self.n):\n",
    "            self.LM.append(self.NG[i].value_counts().to_frame('n'))\n",
    "            self.LM[i]['mle'] = self.LM[i].n / self.LM[i].n.sum()\n",
    "            self.LM[i] = self.LM[i].sort_index()\n",
    "\n",
    "        # Hack to remove single value tuple from unigram table ...\n",
    "        self.LM[0].index = [i[0] for i in self.LM[0].index]\n",
    "        self.LM[0].index.name = 'w0'\n",
    "                \n",
    "        \n",
    "class NgramLanguageModel():\n",
    "    \"\"\"A class to create ngram language models.\"\"\"\n",
    "    \n",
    "    # Set the Lidstone Smoothing value; LaPlace = 1\n",
    "    k:float = .5\n",
    "    \n",
    "    def __init__(self, ngc:NgramCounter):\n",
    "        self.S = ngc.S\n",
    "        self.LM = ngc.LM\n",
    "        self.NG = ngc.NG\n",
    "        self.n = ngc.n\n",
    "        self.widx = ngc.widx\n",
    "\n",
    "    def apply_smoothing(self):\n",
    "        \"\"\"Applies simple smoothing to ngram type counts to estimate the models.\"\"\"\n",
    "        \n",
    "        # Z1 and Z2 will hold info about unseen ngrams\n",
    "        self.Z1 = [None for _ in range(self.n)] # Unseen N grams, but seen N-1 grams\n",
    "        self.Z2 = [None for _ in range(self.n)] # Unseen N-1 grams too\n",
    "        \n",
    "        # The base vocab size (same as number of unigram types)\n",
    "        V = len(self.LM[0]) # Inlcides <s> and </s>\n",
    "        \n",
    "        # The number of ngram types\n",
    "        B = [V**(i+1) for i in range(self.n)]\n",
    "\n",
    "        # Handle unigram case (no need for smoothing)\n",
    "        self.LM[0]['p'] = self.LM[0].n / self.LM[0].n.sum()\n",
    "        self.LM[0]['log_p'] = np.log2(self.LM[0].p)\n",
    "\n",
    "        # Handle higher order ngrams\n",
    "        for i in range(1, self.n):     \n",
    "            \n",
    "            # MLE\n",
    "            self.LM[i]['mle2'] = self.LM[i].n / self.LM[i-1].n\n",
    "\n",
    "            # Emplopy smoothing formula\n",
    "            self.LM[i]['p'] = (self.LM[i].n + self.k) / (self.LM[i-1].n + B[i-1] * self.k)\n",
    "            self.LM[i]['log_p'] = np.log2(self.LM[i].p)\n",
    "\n",
    "            # Unseen N grams, but seen N-1 grams\n",
    "            self.Z1[i] = np.log2(self.k / (self.LM[i-1].n + B[i-1] * self.k))\n",
    "\n",
    "            # Unsess N-1 grams too\n",
    "            self.Z2[i] = np.log2(self.k / B[i-1] * self.k)\n",
    "                \n",
    "            # Tidy up the index\n",
    "            self.LM[i].sort_index(inplace=True)\n",
    "        \n",
    "    def predict(self, test:NgramCounter):\n",
    "        \"\"\"Predicts test sentences with estimated models.\"\"\"\n",
    "        self.T = test\n",
    "        for i in range(self.n):\n",
    "            ng = i + 1\n",
    "            if i == 0:\n",
    "                self.T.S[f'ng_{ng}_ll'] = self.T.NG[0]\\\n",
    "                    .join(self.LM[0].log_p, on=self.widx[:ng])\\\n",
    "                    .groupby('sent_num').log_p.sum()\n",
    "            else:\n",
    "                self.T.S[f'ng_{ng}_ll'] = self.T.NG[i]\\\n",
    "                    .join(self.LM[i].log_p, on=self.widx[:ng])\\\n",
    "                    .fillna(self.Z1[i]).fillna(self.Z2[i])\\\n",
    "                    .groupby('sent_num').log_p.sum()\n",
    "                \n",
    "            self.T.S[f'pp{ng}'] = 2**( -self.T.S[f'ng_{ng}_ll'] / self.T.S['len'])\n",
    "            \n",
    "\n",
    "    def generate_text(self, n_sents=20):\n",
    "        \"\"\"Generate texts using Shannon Game method.\"\"\"\n",
    "        \n",
    "        LM = self.LM # For convenience\n",
    "        i = self.n - 1\n",
    "    \n",
    "        # Start with beginning sentence marker\n",
    "        words = ['<s>' for _ in range(i)]\n",
    "\n",
    "        # Sentence counter\n",
    "        sent_count = 0\n",
    "\n",
    "        # Generate sentences until we've reached our limit\n",
    "        while sent_count < n_sents:\n",
    "\n",
    "            # Get ngram context\n",
    "            ng = tuple(words[-i:])\n",
    "\n",
    "            # Get next word\n",
    "            words.append(LM[i].loc[ng].sample(weights='mle').index.values[0])\n",
    "\n",
    "            # Terminate when end-of-sentence marker found\n",
    "            if words[-1] == '</s>':\n",
    "                sent_count += 1                        \n",
    "                if sent_count < n_sents:\n",
    "                    words.append('<s>')\n",
    "\n",
    "        # Create text from words\n",
    "        text = ' '.join(words)\n",
    "\n",
    "        sents = pd.DataFrame(dict(sent_str=text.split('<s> <s>')))\n",
    "        sents['len'] = sents.sent_str.str.len()\n",
    "        sents = sents[sents.len > 0]\n",
    "        sents.sent_str = sents.sent_str.str.replace('<s> ', '')\n",
    "        sents.sent_str = sents.sent_str.str.replace(' </s>', '')\n",
    "        sents.sent_str = sents.sent_str.str.strip()\n",
    "        sents.sent_str = sents.sent_str.str.replace(r\" s \", \"'s \", regex=True)\n",
    "        \n",
    "        _ = [print(f\"{str(x+1).zfill(2)}. {sent}.\\n\".upper()) for x, sent in enumerate(sents.sent_str)]\n",
    "\n",
    "        self.generated_sents = sents"
   ]
  },
  {
   "cell_type": "code",
   "execution_count": 18,
   "id": "deffb7e1",
   "metadata": {},
   "outputs": [
    {
     "data": {
      "text/html": [
       "<div>\n",
       "<style scoped>\n",
       "    .dataframe tbody tr th:only-of-type {\n",
       "        vertical-align: middle;\n",
       "    }\n",
       "\n",
       "    .dataframe tbody tr th {\n",
       "        vertical-align: top;\n",
       "    }\n",
       "\n",
       "    .dataframe thead th {\n",
       "        text-align: right;\n",
       "    }\n",
       "</style>\n",
       "<table border=\"1\" class=\"dataframe\">\n",
       "  <thead>\n",
       "    <tr style=\"text-align: right;\">\n",
       "      <th></th>\n",
       "      <th>para_num</th>\n",
       "      <th>sent_num</th>\n",
       "      <th>token_num</th>\n",
       "      <th>token_str</th>\n",
       "      <th>term_str</th>\n",
       "    </tr>\n",
       "    <tr>\n",
       "      <th>chap_num</th>\n",
       "      <th></th>\n",
       "      <th></th>\n",
       "      <th></th>\n",
       "      <th></th>\n",
       "      <th></th>\n",
       "    </tr>\n",
       "  </thead>\n",
       "  <tbody>\n",
       "    <tr>\n",
       "      <th>1</th>\n",
       "      <td>0</td>\n",
       "      <td>0</td>\n",
       "      <td>0</td>\n",
       "      <td>Robert</td>\n",
       "      <td>robert</td>\n",
       "    </tr>\n",
       "    <tr>\n",
       "      <th>1</th>\n",
       "      <td>0</td>\n",
       "      <td>0</td>\n",
       "      <td>1</td>\n",
       "      <td>Cohn</td>\n",
       "      <td>cohn</td>\n",
       "    </tr>\n",
       "    <tr>\n",
       "      <th>1</th>\n",
       "      <td>0</td>\n",
       "      <td>0</td>\n",
       "      <td>2</td>\n",
       "      <td>was</td>\n",
       "      <td>was</td>\n",
       "    </tr>\n",
       "    <tr>\n",
       "      <th>1</th>\n",
       "      <td>0</td>\n",
       "      <td>0</td>\n",
       "      <td>3</td>\n",
       "      <td>once</td>\n",
       "      <td>once</td>\n",
       "    </tr>\n",
       "    <tr>\n",
       "      <th>1</th>\n",
       "      <td>0</td>\n",
       "      <td>0</td>\n",
       "      <td>4</td>\n",
       "      <td>middleweight</td>\n",
       "      <td>middleweight</td>\n",
       "    </tr>\n",
       "  </tbody>\n",
       "</table>\n",
       "</div>"
      ],
      "text/plain": [
       "          para_num  sent_num  token_num     token_str      term_str\n",
       "chap_num                                                           \n",
       "1                0         0          0        Robert        robert\n",
       "1                0         0          1          Cohn          cohn\n",
       "1                0         0          2           was           was\n",
       "1                0         0          3          once          once\n",
       "1                0         0          4  middleweight  middleweight"
      ]
     },
     "execution_count": 18,
     "metadata": {},
     "output_type": "execute_result"
    }
   ],
   "source": [
    "TOKENS.head()"
   ]
  },
  {
   "cell_type": "code",
   "execution_count": 19,
   "id": "a9f401c5",
   "metadata": {},
   "outputs": [],
   "source": [
    "import pandas as pd\n",
    "import numpy as np\n",
    "\n",
    "class TextImporter():\n",
    "    \"\"\"\n",
    "    A text importing object designed for use with a single Gutenberg-type text files. Generates TOKENS and VOCAB dataframes.\n",
    "    \n",
    "    Sample parameter values:\n",
    "    ohco_pats = [\n",
    "        ('chapter', r\"^\\s*(chapter|letter)\\s+(\\d+)\")    \n",
    "    ]\n",
    "    clip_pats = [r'START OF GUTENBERG PROJECT', r'^\\s*THE END']\n",
    "    \"\"\"\n",
    "\n",
    "    src_imported:bool = False       \n",
    "    src_clipped:bool = False\n",
    "    src_col_suffix:str ='_str'\n",
    "    join_pat:str = r'\\n'\n",
    "        \n",
    "    # We assume all OHCOs have sentences and tokens\n",
    "    ohco_pats:[tuple] = [\n",
    "        ('para', r\"\\n\\n\", 'd'),\n",
    "        ('sent', r\"[.?!;:]+\", 'd'),\n",
    "        ('token', r\"[\\s',-]+\", 'd')\n",
    "    ]\n",
    "        \n",
    "    _ohco_type:{} = {\n",
    "        'd': '_num',\n",
    "        'm': '_id'\n",
    "    }\n",
    "        \n",
    "    def __init__(self, src_file:str, ohco_pats:[], clip_pats:[]):\n",
    "        # TODO: Generalize this to work with strings, too\n",
    "        self.src_file = src_file            \n",
    "        self.clip_pats = clip_pats # TODO: Validate\n",
    "        self.ohco_pats = ohco_pats + self.ohco_pats # TODO: Validate\n",
    "        self.OHCO = [item[0]+self._ohco_type[item[2]] for item in self.ohco_pats]\n",
    "        self.ohco_names = [item[0] for item in self.ohco_pats]\n",
    "        \n",
    "    def import_source(self, strip:bool=True, char_encoding:str=\"utf-8-sig\"):\n",
    "        \"\"\"Convert a raw text file into a dataframe of lines\"\"\"\n",
    "        print(\"Importing \", self.src_file)\n",
    "        text_lines = open(self.src_file,'r', encoding=char_encoding).readlines()\n",
    "        self.LINES = pd.DataFrame({'line_str':text_lines})\n",
    "        self.LINES.index.name = 'line_id'\n",
    "        if strip:\n",
    "            self.LINES.line_str = self.LINES.line_str.str.strip()\n",
    "        self.src_imported = True\n",
    "        print(\"Clipping text\")\n",
    "        self._clip_lines()\n",
    "        return self        \n",
    "\n",
    "    def _clip_lines(self):\n",
    "        \"\"\"Remove cruft lines from beginning and/or end of file\"\"\"\n",
    "        start_pat = self.clip_pats[0]\n",
    "        end_pat = self.clip_pats[1]\n",
    "        start = self.LINES.line_str.str.contains(start_pat, regex=True)\n",
    "        end = self.LINES.line_str.str.contains(end_pat, regex=True)\n",
    "        start_line_num = self.LINES.loc[start].index[0]\n",
    "        end_line_num = self.LINES.loc[end].index[0]\n",
    "        self.LINES = self.LINES.loc[start_line_num + 1 : end_line_num - 2]\n",
    "        self.src_clipped == True\n",
    "        \n",
    "    def parse_tokens(self):\n",
    "        \"\"\"Convert lines to tokens with arbitrary OHCO\"\"\"\n",
    "        if self.src_imported:\n",
    "            self.TOKENS = self.LINES.copy()\n",
    "            for i, level in enumerate(self.OHCO):\n",
    "                print(f\"Parsing OHCO level {i} {level}\", end=' ')\n",
    "                parse_type = self.ohco_pats[i][2]\n",
    "                if parse_type == 'd':\n",
    "                    self.TOKENS = self._split_by_delimitter(self.TOKENS, i)\n",
    "                elif parse_type == 'm':\n",
    "                    self.TOKENS = self._group_by_milestone(self.TOKENS, i)\n",
    "                else:\n",
    "                     print(f\"Invalid parse option: {parse_type}.\")\n",
    "            self.TOKENS['term_str'] = self.TOKENS.token_str.str.replace(r'[\\W_]+', '', regex=True).str.lower()\n",
    "            return self\n",
    "        else:\n",
    "            raise(\"Source not imported. Please run .import_source()\")\n",
    "\n",
    "    def _group_by_milestone(self, df, ohco_level):\n",
    "        \"\"\"Group and chunk text by milestone, such as chapter headers\"\"\"\n",
    "        \n",
    "        # DEFINITIONS\n",
    "\n",
    "        # The name of the div (content object level) to be created\n",
    "        div_name = self.ohco_pats[ohco_level][0]\n",
    "\n",
    "        # The milestone pattern to used to infer the div\n",
    "        div_pat = self.ohco_pats[ohco_level][1]\n",
    "        \n",
    "        # Notify \n",
    "        print(f\"by milestone {div_pat}\")\n",
    "        \n",
    "        # The parent div (content object level)\n",
    "        if ohco_level - 1 < 0:\n",
    "            src_div_name = 'line' # If we are working with the raw table of lines\n",
    "        else:\n",
    "            src_div_name = self.ohco_names[ohco_level - 1] \n",
    "            \n",
    "        # The name of the column to apply the pattern\n",
    "        src_col = f\"{src_div_name}{self.src_col_suffix}\"\n",
    "        \n",
    "        # The new column\n",
    "        dst_col = f'{div_name}{self.src_col_suffix}'\n",
    "\n",
    "        # The suffix of the id for the new table\n",
    "        id_suffix = self._ohco_type['m']\n",
    "        \n",
    "        # ACTIONS\n",
    "\n",
    "        # Identify lines with milestone markers\n",
    "        div_lines = df[src_col].str.contains(div_pat, regex=True, case=False) # May want to parametize case\n",
    "        \n",
    "        # Add a new column with the ids for the milestones\n",
    "        df.loc[div_lines, div_name] = [i+1 for i in range(df.loc[div_lines].shape[0])]\n",
    "        \n",
    "        # Forward fill to include members of the div\n",
    "        df[div_name] = df[div_name].ffill()\n",
    "        \n",
    "        # Remove everything before first div\n",
    "        df = df.loc[~df[div_name].isna()] \n",
    "        \n",
    "        # Remove lines milestone markers\n",
    "        df = df.loc[~div_lines] \n",
    "        \n",
    "        # Cast values to ints (from floats)\n",
    "        df[div_name] = df[div_name].astype('int')\n",
    "        \n",
    "        # Make a big doc string from the named lines\n",
    "        df = df.groupby(self.ohco_names[:ohco_level+1])[src_col].apply(lambda x: '\\n'.join(x)).to_frame(dst_col)\n",
    "        \n",
    "        # Strip the new doc string\n",
    "        df[dst_col] = df[dst_col].str.strip()\n",
    "                \n",
    "        # Rename index\n",
    "        df.index.name = f\"{div_name}{id_suffix}\"\n",
    "        \n",
    "        # Return new dataframe\n",
    "        return df\n",
    "\n",
    "    def _split_by_delimitter(self, df, ohco_level):\n",
    "        \"\"\"Split and chunk text by a delimmitter, for paragraphs, sentences, and tokens\"\"\"\n",
    "        \n",
    "        # DEFINITIONS\n",
    "\n",
    "        # The name of the div (content object level) to be created\n",
    "        div_name = self.ohco_pats[ohco_level][0]\n",
    "\n",
    "        # The milestone pattern to used to infer the div\n",
    "        div_pat = self.ohco_pats[ohco_level][1]\n",
    "        \n",
    "        # Notify\n",
    "        print(f\"by delimitter {div_pat}\")\n",
    "        \n",
    "        # The suffix of the id for the new table\n",
    "        id_suffix = self._ohco_type['d']\n",
    "\n",
    "        # The parent div (content object level) -- we assume this is not the first parsing\n",
    "        src_div_name = self.ohco_names[ohco_level-1]\n",
    "        \n",
    "        # The name of the column to apply the pattern\n",
    "        src_col = f\"{src_div_name}{self.src_col_suffix}\"\n",
    "        \n",
    "        # Tne new column\n",
    "        dst_col = f'{div_name}{self.src_col_suffix}'\n",
    "        \n",
    "        # The new index\n",
    "        dst_index = df.index.names + [div_name + id_suffix]\n",
    "        \n",
    "        # ACTIONS\n",
    "        \n",
    "        # Split source column by pattern and stack into new table\n",
    "        df = df[src_col].str.split(div_pat, expand=True).stack().to_frame(dst_col) #.copy()\n",
    "        \n",
    "        # Name index\n",
    "        df.index.names = dst_index\n",
    "        \n",
    "        # Remove join content (e.g. new lines)\n",
    "        df[dst_col] = df[dst_col].str.replace(self.join_pat, ' ', regex=True)\n",
    "        \n",
    "        # Remove empty lines\n",
    "        df = df[~df[dst_col].str.contains(r'^\\s*$', regex=True)]\n",
    "        \n",
    "        # Return\n",
    "        return df\n",
    "\n",
    "    def extract_vocab(self):\n",
    "        \"\"\"This should also be done at the corpus level.\"\"\"\n",
    "        self.VOCAB = self.TOKENS.term_str.value_counts().to_frame('n')\n",
    "        self.VOCAB.index.name = 'term_str'\n",
    "        self.VOCAB['n_chars'] = self.VOCAB.index.str.len()\n",
    "        self.VOCAB['p'] = self.VOCAB['n'] / self.VOCAB['n'].sum()\n",
    "        self.VOCAB['s'] = 1 / self.VOCAB['p']\n",
    "        self.VOCAB['i'] = np.log2(self.VOCAB['s']) # Same as negative log probability (i.e. log likelihood)\n",
    "        self.VOCAB['h'] = self.VOCAB['p'] * self.VOCAB['i']\n",
    "        self.H = self.VOCAB['h'].sum()\n",
    "        return self\n",
    "\n",
    "    def gather_tokens(self, level=0, collapse=False):\n",
    "        \"\"\"Gather tokens into strings for arbitrary OHCO level.\"\"\"\n",
    "        max_level = len(self.OHCO) - 2 # Can't gather tokens at the token level :)\n",
    "        if level > max_level:\n",
    "            print(f\"Level {level} too high. Try between 0 and {max_level}\")\n",
    "        else:\n",
    "            level_name = self.OHCO[level].split('_')[0] # Added splitter\n",
    "            idx = self.TOKENS.index.names[:level+1]\n",
    "            return self.TOKENS.groupby(idx).term_str.apply(lambda x: x.str.cat(sep=' '))\\\n",
    "                .to_frame(f'{level_name}_str')"
   ]
  },
  {
   "cell_type": "code",
   "execution_count": 20,
   "id": "b1afb501",
   "metadata": {},
   "outputs": [],
   "source": [
    "ohco_pats = [\n",
    "    ('chap', r\"CHAPTER$\", 'm')\n",
    "]\n",
    "clip_pats = [\n",
    "    r\"\\*\\*\\*\\s*START OF (?:THE|THIS) PROJECT\",\n",
    "    r\"\\*\\*\\*\\s*END OF (?:THE|THIS) PROJECT\"\n",
    "]"
   ]
  },
  {
   "cell_type": "code",
   "execution_count": 21,
   "id": "8bf07898",
   "metadata": {},
   "outputs": [],
   "source": [
    "src_file_path = f\"../data/pg67138.txt\""
   ]
  },
  {
   "cell_type": "code",
   "execution_count": 22,
   "id": "72acab90",
   "metadata": {},
   "outputs": [],
   "source": [
    "franky = TextImporter(src_file_path, ohco_pats=ohco_pats, clip_pats=clip_pats)"
   ]
  },
  {
   "cell_type": "code",
   "execution_count": 23,
   "id": "2814a90f",
   "metadata": {
    "scrolled": true
   },
   "outputs": [
    {
     "name": "stdout",
     "output_type": "stream",
     "text": [
      "Importing  ../data/pg67138.txt\n",
      "Clipping text\n",
      "Parsing OHCO level 0 chap_id by milestone CHAPTER$\n",
      "Parsing OHCO level 1 para_num by delimitter \\n\\n\n",
      "Parsing OHCO level 2 sent_num by delimitter [.?!;:]+\n",
      "Parsing OHCO level 3 token_num by delimitter [\\s',-]+\n"
     ]
    }
   ],
   "source": [
    "franky.import_source().parse_tokens().extract_vocab();"
   ]
  },
  {
   "cell_type": "code",
   "execution_count": 24,
   "id": "2ae3d907",
   "metadata": {
    "scrolled": true
   },
   "outputs": [
    {
     "data": {
      "text/html": [
       "<div>\n",
       "<style scoped>\n",
       "    .dataframe tbody tr th:only-of-type {\n",
       "        vertical-align: middle;\n",
       "    }\n",
       "\n",
       "    .dataframe tbody tr th {\n",
       "        vertical-align: top;\n",
       "    }\n",
       "\n",
       "    .dataframe thead th {\n",
       "        text-align: right;\n",
       "    }\n",
       "</style>\n",
       "<table border=\"1\" class=\"dataframe\">\n",
       "  <thead>\n",
       "    <tr style=\"text-align: right;\">\n",
       "      <th></th>\n",
       "      <th></th>\n",
       "      <th></th>\n",
       "      <th></th>\n",
       "      <th>token_str</th>\n",
       "      <th>term_str</th>\n",
       "    </tr>\n",
       "    <tr>\n",
       "      <th>chap_id</th>\n",
       "      <th>para_num</th>\n",
       "      <th>sent_num</th>\n",
       "      <th>token_num</th>\n",
       "      <th></th>\n",
       "      <th></th>\n",
       "    </tr>\n",
       "  </thead>\n",
       "  <tbody>\n",
       "    <tr>\n",
       "      <th rowspan=\"5\" valign=\"top\">1</th>\n",
       "      <th>0</th>\n",
       "      <th>0</th>\n",
       "      <th>0</th>\n",
       "      <td>1</td>\n",
       "      <td>1</td>\n",
       "    </tr>\n",
       "    <tr>\n",
       "      <th rowspan=\"4\" valign=\"top\">1</th>\n",
       "      <th rowspan=\"4\" valign=\"top\">0</th>\n",
       "      <th>1</th>\n",
       "      <td>Robert</td>\n",
       "      <td>robert</td>\n",
       "    </tr>\n",
       "    <tr>\n",
       "      <th>2</th>\n",
       "      <td>Cohn</td>\n",
       "      <td>cohn</td>\n",
       "    </tr>\n",
       "    <tr>\n",
       "      <th>3</th>\n",
       "      <td>was</td>\n",
       "      <td>was</td>\n",
       "    </tr>\n",
       "    <tr>\n",
       "      <th>4</th>\n",
       "      <td>once</td>\n",
       "      <td>once</td>\n",
       "    </tr>\n",
       "    <tr>\n",
       "      <th>...</th>\n",
       "      <th>...</th>\n",
       "      <th>...</th>\n",
       "      <th>...</th>\n",
       "      <td>...</td>\n",
       "      <td>...</td>\n",
       "    </tr>\n",
       "    <tr>\n",
       "      <th rowspan=\"5\" valign=\"top\">19</th>\n",
       "      <th rowspan=\"3\" valign=\"top\">265</th>\n",
       "      <th rowspan=\"2\" valign=\"top\">1</th>\n",
       "      <th>5</th>\n",
       "      <td>think</td>\n",
       "      <td>think</td>\n",
       "    </tr>\n",
       "    <tr>\n",
       "      <th>6</th>\n",
       "      <td>so</td>\n",
       "      <td>so</td>\n",
       "    </tr>\n",
       "    <tr>\n",
       "      <th>2</th>\n",
       "      <th>0</th>\n",
       "      <td>”</td>\n",
       "      <td></td>\n",
       "    </tr>\n",
       "    <tr>\n",
       "      <th rowspan=\"2\" valign=\"top\">266</th>\n",
       "      <th rowspan=\"2\" valign=\"top\">0</th>\n",
       "      <th>0</th>\n",
       "      <td>THE</td>\n",
       "      <td>the</td>\n",
       "    </tr>\n",
       "    <tr>\n",
       "      <th>1</th>\n",
       "      <td>END</td>\n",
       "      <td>end</td>\n",
       "    </tr>\n",
       "  </tbody>\n",
       "</table>\n",
       "<p>71636 rows × 2 columns</p>\n",
       "</div>"
      ],
      "text/plain": [
       "                                    token_str term_str\n",
       "chap_id para_num sent_num token_num                   \n",
       "1       0        0        0                 1        1\n",
       "        1        0        1            Robert   robert\n",
       "                          2              Cohn     cohn\n",
       "                          3               was      was\n",
       "                          4              once     once\n",
       "...                                       ...      ...\n",
       "19      265      1        5             think    think\n",
       "                          6                so       so\n",
       "                 2        0                 ”         \n",
       "        266      0        0               THE      the\n",
       "                          1               END      end\n",
       "\n",
       "[71636 rows x 2 columns]"
      ]
     },
     "execution_count": 24,
     "metadata": {},
     "output_type": "execute_result"
    }
   ],
   "source": [
    "franky.TOKENS"
   ]
  },
  {
   "cell_type": "code",
   "execution_count": 25,
   "id": "da9d46b9",
   "metadata": {
    "scrolled": true
   },
   "outputs": [
    {
     "data": {
      "text/html": [
       "<div>\n",
       "<style scoped>\n",
       "    .dataframe tbody tr th:only-of-type {\n",
       "        vertical-align: middle;\n",
       "    }\n",
       "\n",
       "    .dataframe tbody tr th {\n",
       "        vertical-align: top;\n",
       "    }\n",
       "\n",
       "    .dataframe thead th {\n",
       "        text-align: right;\n",
       "    }\n",
       "</style>\n",
       "<table border=\"1\" class=\"dataframe\">\n",
       "  <thead>\n",
       "    <tr style=\"text-align: right;\">\n",
       "      <th></th>\n",
       "      <th>n</th>\n",
       "      <th>n_chars</th>\n",
       "      <th>p</th>\n",
       "      <th>s</th>\n",
       "      <th>i</th>\n",
       "      <th>h</th>\n",
       "    </tr>\n",
       "    <tr>\n",
       "      <th>term_str</th>\n",
       "      <th></th>\n",
       "      <th></th>\n",
       "      <th></th>\n",
       "      <th></th>\n",
       "      <th></th>\n",
       "      <th></th>\n",
       "    </tr>\n",
       "  </thead>\n",
       "  <tbody>\n",
       "    <tr>\n",
       "      <th>the</th>\n",
       "      <td>4482</td>\n",
       "      <td>3</td>\n",
       "      <td>0.062566</td>\n",
       "      <td>15.983043</td>\n",
       "      <td>3.998470</td>\n",
       "      <td>0.250170</td>\n",
       "    </tr>\n",
       "    <tr>\n",
       "      <th></th>\n",
       "      <td>3334</td>\n",
       "      <td>0</td>\n",
       "      <td>0.046541</td>\n",
       "      <td>21.486503</td>\n",
       "      <td>4.425359</td>\n",
       "      <td>0.205960</td>\n",
       "    </tr>\n",
       "    <tr>\n",
       "      <th>and</th>\n",
       "      <td>2287</td>\n",
       "      <td>3</td>\n",
       "      <td>0.031925</td>\n",
       "      <td>31.323131</td>\n",
       "      <td>4.969157</td>\n",
       "      <td>0.158642</td>\n",
       "    </tr>\n",
       "    <tr>\n",
       "      <th>i</th>\n",
       "      <td>1999</td>\n",
       "      <td>1</td>\n",
       "      <td>0.027905</td>\n",
       "      <td>35.835918</td>\n",
       "      <td>5.163334</td>\n",
       "      <td>0.144083</td>\n",
       "    </tr>\n",
       "    <tr>\n",
       "      <th>to</th>\n",
       "      <td>1590</td>\n",
       "      <td>2</td>\n",
       "      <td>0.022196</td>\n",
       "      <td>45.054088</td>\n",
       "      <td>5.493586</td>\n",
       "      <td>0.121933</td>\n",
       "    </tr>\n",
       "    <tr>\n",
       "      <th>...</th>\n",
       "      <td>...</td>\n",
       "      <td>...</td>\n",
       "      <td>...</td>\n",
       "      <td>...</td>\n",
       "      <td>...</td>\n",
       "      <td>...</td>\n",
       "    </tr>\n",
       "    <tr>\n",
       "      <th>commanding</th>\n",
       "      <td>1</td>\n",
       "      <td>10</td>\n",
       "      <td>0.000014</td>\n",
       "      <td>71636.000000</td>\n",
       "      <td>16.128397</td>\n",
       "      <td>0.000225</td>\n",
       "    </tr>\n",
       "    <tr>\n",
       "      <th>beaming</th>\n",
       "      <td>1</td>\n",
       "      <td>7</td>\n",
       "      <td>0.000014</td>\n",
       "      <td>71636.000000</td>\n",
       "      <td>16.128397</td>\n",
       "      <td>0.000225</td>\n",
       "    </tr>\n",
       "    <tr>\n",
       "      <th>various</th>\n",
       "      <td>1</td>\n",
       "      <td>7</td>\n",
       "      <td>0.000014</td>\n",
       "      <td>71636.000000</td>\n",
       "      <td>16.128397</td>\n",
       "      <td>0.000225</td>\n",
       "    </tr>\n",
       "    <tr>\n",
       "      <th>horseback</th>\n",
       "      <td>1</td>\n",
       "      <td>9</td>\n",
       "      <td>0.000014</td>\n",
       "      <td>71636.000000</td>\n",
       "      <td>16.128397</td>\n",
       "      <td>0.000225</td>\n",
       "    </tr>\n",
       "    <tr>\n",
       "      <th>comparatively</th>\n",
       "      <td>1</td>\n",
       "      <td>13</td>\n",
       "      <td>0.000014</td>\n",
       "      <td>71636.000000</td>\n",
       "      <td>16.128397</td>\n",
       "      <td>0.000225</td>\n",
       "    </tr>\n",
       "  </tbody>\n",
       "</table>\n",
       "<p>4834 rows × 6 columns</p>\n",
       "</div>"
      ],
      "text/plain": [
       "                  n  n_chars         p             s          i         h\n",
       "term_str                                                                 \n",
       "the            4482        3  0.062566     15.983043   3.998470  0.250170\n",
       "               3334        0  0.046541     21.486503   4.425359  0.205960\n",
       "and            2287        3  0.031925     31.323131   4.969157  0.158642\n",
       "i              1999        1  0.027905     35.835918   5.163334  0.144083\n",
       "to             1590        2  0.022196     45.054088   5.493586  0.121933\n",
       "...             ...      ...       ...           ...        ...       ...\n",
       "commanding        1       10  0.000014  71636.000000  16.128397  0.000225\n",
       "beaming           1        7  0.000014  71636.000000  16.128397  0.000225\n",
       "various           1        7  0.000014  71636.000000  16.128397  0.000225\n",
       "horseback         1        9  0.000014  71636.000000  16.128397  0.000225\n",
       "comparatively     1       13  0.000014  71636.000000  16.128397  0.000225\n",
       "\n",
       "[4834 rows x 6 columns]"
      ]
     },
     "execution_count": 25,
     "metadata": {},
     "output_type": "execute_result"
    }
   ],
   "source": [
    "franky.VOCAB"
   ]
  },
  {
   "cell_type": "code",
   "execution_count": 26,
   "id": "c1339d35",
   "metadata": {},
   "outputs": [],
   "source": [
    "csv_file = f\"../data/output/vocabprobabilityfeatures.csv\"\n",
    "franky.VOCAB.to_csv(csv_file)"
   ]
  },
  {
   "cell_type": "code",
   "execution_count": 27,
   "id": "5d4ba149",
   "metadata": {},
   "outputs": [
    {
     "data": {
      "text/plain": [
       "['chap_id', 'para_num', 'sent_num', 'token_num']"
      ]
     },
     "execution_count": 27,
     "metadata": {},
     "output_type": "execute_result"
    }
   ],
   "source": [
    "franky.OHCO"
   ]
  },
  {
   "cell_type": "code",
   "execution_count": 28,
   "id": "cd8ba987",
   "metadata": {},
   "outputs": [],
   "source": [
    "sents = franky.gather_tokens(2).sent_str.to_list()"
   ]
  },
  {
   "cell_type": "code",
   "execution_count": 29,
   "id": "b229710c",
   "metadata": {},
   "outputs": [
    {
     "data": {
      "text/plain": [
       "['1',\n",
       " 'robert cohn was once middleweight boxing champion of princeton',\n",
       " 'do not think that i am very much impressed by that as a boxing title but it meant a lot to cohn',\n",
       " 'he cared nothing for boxing in fact he disliked it but he learned it painfully and thoroughly to counteract the feeling of inferiority and shyness he had felt on being treated as a jew at princeton',\n",
       " 'there was a certain inner comfort in knowing he could knock down anybody who was snooty to him although being very shy and a thoroughly nice boy he never fought except in the gym',\n",
       " 'he was spider kellys star pupil',\n",
       " 'spider kelly taught all his young gentlemen to box like featherweights no matter whether they weighed one hundred and five or two hundred and five pounds',\n",
       " 'but it seemed to fit cohn',\n",
       " 'he was really very fast',\n",
       " 'he was so good that spider promptly overmatched him and got his nose permanently flattened']"
      ]
     },
     "execution_count": 29,
     "metadata": {},
     "output_type": "execute_result"
    }
   ],
   "source": [
    "sents[:10]"
   ]
  },
  {
   "cell_type": "code",
   "execution_count": 30,
   "id": "1f977b64",
   "metadata": {},
   "outputs": [],
   "source": [
    "vocab = franky.VOCAB.index.to_list()"
   ]
  },
  {
   "cell_type": "code",
   "execution_count": 31,
   "id": "c54606b6",
   "metadata": {},
   "outputs": [
    {
     "data": {
      "text/plain": [
       "['the', '', 'and', 'i', 'to', 'a', 'was', 'of', 'you', 'in']"
      ]
     },
     "execution_count": 31,
     "metadata": {},
     "output_type": "execute_result"
    }
   ],
   "source": [
    "vocab[:10]"
   ]
  },
  {
   "cell_type": "code",
   "execution_count": 32,
   "id": "fdfdfecf",
   "metadata": {},
   "outputs": [],
   "source": [
    "train = NgramCounter(sents, vocab)"
   ]
  },
  {
   "cell_type": "code",
   "execution_count": 33,
   "id": "002332d5",
   "metadata": {},
   "outputs": [],
   "source": [
    "train.generate()"
   ]
  },
  {
   "cell_type": "code",
   "execution_count": 34,
   "id": "111e0e52",
   "metadata": {},
   "outputs": [
    {
     "data": {
      "text/html": [
       "<div>\n",
       "<style scoped>\n",
       "    .dataframe tbody tr th:only-of-type {\n",
       "        vertical-align: middle;\n",
       "    }\n",
       "\n",
       "    .dataframe tbody tr th {\n",
       "        vertical-align: top;\n",
       "    }\n",
       "\n",
       "    .dataframe thead th {\n",
       "        text-align: right;\n",
       "    }\n",
       "</style>\n",
       "<table border=\"1\" class=\"dataframe\">\n",
       "  <thead>\n",
       "    <tr style=\"text-align: right;\">\n",
       "      <th></th>\n",
       "      <th>n</th>\n",
       "      <th>mle</th>\n",
       "    </tr>\n",
       "    <tr>\n",
       "      <th>w0</th>\n",
       "      <th></th>\n",
       "      <th></th>\n",
       "    </tr>\n",
       "  </thead>\n",
       "  <tbody>\n",
       "    <tr>\n",
       "      <th>1</th>\n",
       "      <td>1</td>\n",
       "      <td>0.00001</td>\n",
       "    </tr>\n",
       "    <tr>\n",
       "      <th>10</th>\n",
       "      <td>1</td>\n",
       "      <td>0.00001</td>\n",
       "    </tr>\n",
       "    <tr>\n",
       "      <th>11</th>\n",
       "      <td>1</td>\n",
       "      <td>0.00001</td>\n",
       "    </tr>\n",
       "    <tr>\n",
       "      <th>118</th>\n",
       "      <td>1</td>\n",
       "      <td>0.00001</td>\n",
       "    </tr>\n",
       "    <tr>\n",
       "      <th>12</th>\n",
       "      <td>1</td>\n",
       "      <td>0.00001</td>\n",
       "    </tr>\n",
       "    <tr>\n",
       "      <th>...</th>\n",
       "      <td>...</td>\n",
       "      <td>...</td>\n",
       "    </tr>\n",
       "    <tr>\n",
       "      <th>zinc</th>\n",
       "      <td>3</td>\n",
       "      <td>0.00003</td>\n",
       "    </tr>\n",
       "    <tr>\n",
       "      <th>zizi</th>\n",
       "      <td>7</td>\n",
       "      <td>0.00007</td>\n",
       "    </tr>\n",
       "    <tr>\n",
       "      <th>zonda</th>\n",
       "      <td>2</td>\n",
       "      <td>0.00002</td>\n",
       "    </tr>\n",
       "    <tr>\n",
       "      <th>à</th>\n",
       "      <td>1</td>\n",
       "      <td>0.00001</td>\n",
       "    </tr>\n",
       "    <tr>\n",
       "      <th>æsthetics</th>\n",
       "      <td>1</td>\n",
       "      <td>0.00001</td>\n",
       "    </tr>\n",
       "  </tbody>\n",
       "</table>\n",
       "<p>4835 rows × 2 columns</p>\n",
       "</div>"
      ],
      "text/plain": [
       "           n      mle\n",
       "w0                   \n",
       "1          1  0.00001\n",
       "10         1  0.00001\n",
       "11         1  0.00001\n",
       "118        1  0.00001\n",
       "12         1  0.00001\n",
       "...       ..      ...\n",
       "zinc       3  0.00003\n",
       "zizi       7  0.00007\n",
       "zonda      2  0.00002\n",
       "à          1  0.00001\n",
       "æsthetics  1  0.00001\n",
       "\n",
       "[4835 rows x 2 columns]"
      ]
     },
     "execution_count": 34,
     "metadata": {},
     "output_type": "execute_result"
    }
   ],
   "source": [
    "train.LM[0]"
   ]
  },
  {
   "cell_type": "code",
   "execution_count": 35,
   "id": "8cc45c72",
   "metadata": {
    "scrolled": false
   },
   "outputs": [
    {
     "data": {
      "text/html": [
       "<div>\n",
       "<style scoped>\n",
       "    .dataframe tbody tr th:only-of-type {\n",
       "        vertical-align: middle;\n",
       "    }\n",
       "\n",
       "    .dataframe tbody tr th {\n",
       "        vertical-align: top;\n",
       "    }\n",
       "\n",
       "    .dataframe thead th {\n",
       "        text-align: right;\n",
       "    }\n",
       "</style>\n",
       "<table border=\"1\" class=\"dataframe\">\n",
       "  <thead>\n",
       "    <tr style=\"text-align: right;\">\n",
       "      <th></th>\n",
       "      <th></th>\n",
       "      <th>n</th>\n",
       "      <th>mle</th>\n",
       "    </tr>\n",
       "    <tr>\n",
       "      <th>w0</th>\n",
       "      <th>w1</th>\n",
       "      <th></th>\n",
       "      <th></th>\n",
       "    </tr>\n",
       "  </thead>\n",
       "  <tbody>\n",
       "    <tr>\n",
       "      <th>1</th>\n",
       "      <th>&lt;/s&gt;</th>\n",
       "      <td>1</td>\n",
       "      <td>0.00001</td>\n",
       "    </tr>\n",
       "    <tr>\n",
       "      <th>10</th>\n",
       "      <th>&lt;/s&gt;</th>\n",
       "      <td>1</td>\n",
       "      <td>0.00001</td>\n",
       "    </tr>\n",
       "    <tr>\n",
       "      <th>11</th>\n",
       "      <th>&lt;/s&gt;</th>\n",
       "      <td>1</td>\n",
       "      <td>0.00001</td>\n",
       "    </tr>\n",
       "    <tr>\n",
       "      <th>118</th>\n",
       "      <th>of</th>\n",
       "      <td>1</td>\n",
       "      <td>0.00001</td>\n",
       "    </tr>\n",
       "    <tr>\n",
       "      <th>12</th>\n",
       "      <th>&lt;/s&gt;</th>\n",
       "      <td>1</td>\n",
       "      <td>0.00001</td>\n",
       "    </tr>\n",
       "    <tr>\n",
       "      <th>...</th>\n",
       "      <th>...</th>\n",
       "      <td>...</td>\n",
       "      <td>...</td>\n",
       "    </tr>\n",
       "    <tr>\n",
       "      <th rowspan=\"2\" valign=\"top\">zizi</th>\n",
       "      <th>the</th>\n",
       "      <td>1</td>\n",
       "      <td>0.00001</td>\n",
       "    </tr>\n",
       "    <tr>\n",
       "      <th>you</th>\n",
       "      <td>1</td>\n",
       "      <td>0.00001</td>\n",
       "    </tr>\n",
       "    <tr>\n",
       "      <th>zonda</th>\n",
       "      <th>&lt;/s&gt;</th>\n",
       "      <td>2</td>\n",
       "      <td>0.00002</td>\n",
       "    </tr>\n",
       "    <tr>\n",
       "      <th>à</th>\n",
       "      <th>leau</th>\n",
       "      <td>1</td>\n",
       "      <td>0.00001</td>\n",
       "    </tr>\n",
       "    <tr>\n",
       "      <th>æsthetics</th>\n",
       "      <th>of</th>\n",
       "      <td>1</td>\n",
       "      <td>0.00001</td>\n",
       "    </tr>\n",
       "  </tbody>\n",
       "</table>\n",
       "<p>29415 rows × 2 columns</p>\n",
       "</div>"
      ],
      "text/plain": [
       "                n      mle\n",
       "w0        w1              \n",
       "1         </s>  1  0.00001\n",
       "10        </s>  1  0.00001\n",
       "11        </s>  1  0.00001\n",
       "118       of    1  0.00001\n",
       "12        </s>  1  0.00001\n",
       "...            ..      ...\n",
       "zizi      the   1  0.00001\n",
       "          you   1  0.00001\n",
       "zonda     </s>  2  0.00002\n",
       "à         leau  1  0.00001\n",
       "æsthetics of    1  0.00001\n",
       "\n",
       "[29415 rows x 2 columns]"
      ]
     },
     "execution_count": 35,
     "metadata": {},
     "output_type": "execute_result"
    }
   ],
   "source": [
    "train.LM[1]"
   ]
  },
  {
   "cell_type": "code",
   "execution_count": 36,
   "id": "2a755e41",
   "metadata": {},
   "outputs": [
    {
     "data": {
      "text/html": [
       "<div>\n",
       "<style scoped>\n",
       "    .dataframe tbody tr th:only-of-type {\n",
       "        vertical-align: middle;\n",
       "    }\n",
       "\n",
       "    .dataframe tbody tr th {\n",
       "        vertical-align: top;\n",
       "    }\n",
       "\n",
       "    .dataframe thead th {\n",
       "        text-align: right;\n",
       "    }\n",
       "</style>\n",
       "<table border=\"1\" class=\"dataframe\">\n",
       "  <thead>\n",
       "    <tr style=\"text-align: right;\">\n",
       "      <th></th>\n",
       "      <th></th>\n",
       "      <th></th>\n",
       "      <th>n</th>\n",
       "      <th>mle</th>\n",
       "    </tr>\n",
       "    <tr>\n",
       "      <th>w0</th>\n",
       "      <th>w1</th>\n",
       "      <th>w2</th>\n",
       "      <th></th>\n",
       "      <th></th>\n",
       "    </tr>\n",
       "  </thead>\n",
       "  <tbody>\n",
       "    <tr>\n",
       "      <th>1</th>\n",
       "      <th>&lt;/s&gt;</th>\n",
       "      <th>&lt;s&gt;</th>\n",
       "      <td>1</td>\n",
       "      <td>0.00001</td>\n",
       "    </tr>\n",
       "    <tr>\n",
       "      <th>10</th>\n",
       "      <th>&lt;/s&gt;</th>\n",
       "      <th>&lt;s&gt;</th>\n",
       "      <td>1</td>\n",
       "      <td>0.00001</td>\n",
       "    </tr>\n",
       "    <tr>\n",
       "      <th>11</th>\n",
       "      <th>&lt;/s&gt;</th>\n",
       "      <th>&lt;s&gt;</th>\n",
       "      <td>1</td>\n",
       "      <td>0.00001</td>\n",
       "    </tr>\n",
       "    <tr>\n",
       "      <th>118</th>\n",
       "      <th>of</th>\n",
       "      <th>the</th>\n",
       "      <td>1</td>\n",
       "      <td>0.00001</td>\n",
       "    </tr>\n",
       "    <tr>\n",
       "      <th>12</th>\n",
       "      <th>&lt;/s&gt;</th>\n",
       "      <th>&lt;s&gt;</th>\n",
       "      <td>1</td>\n",
       "      <td>0.00001</td>\n",
       "    </tr>\n",
       "    <tr>\n",
       "      <th>...</th>\n",
       "      <th>...</th>\n",
       "      <th>...</th>\n",
       "      <td>...</td>\n",
       "      <td>...</td>\n",
       "    </tr>\n",
       "    <tr>\n",
       "      <th rowspan=\"2\" valign=\"top\">zizi</th>\n",
       "      <th>the</th>\n",
       "      <th>greek</th>\n",
       "      <td>1</td>\n",
       "      <td>0.00001</td>\n",
       "    </tr>\n",
       "    <tr>\n",
       "      <th>you</th>\n",
       "      <th>know</th>\n",
       "      <td>1</td>\n",
       "      <td>0.00001</td>\n",
       "    </tr>\n",
       "    <tr>\n",
       "      <th>zonda</th>\n",
       "      <th>&lt;/s&gt;</th>\n",
       "      <th>&lt;s&gt;</th>\n",
       "      <td>2</td>\n",
       "      <td>0.00002</td>\n",
       "    </tr>\n",
       "    <tr>\n",
       "      <th>à</th>\n",
       "      <th>leau</th>\n",
       "      <th>&lt;/s&gt;</th>\n",
       "      <td>1</td>\n",
       "      <td>0.00001</td>\n",
       "    </tr>\n",
       "    <tr>\n",
       "      <th>æsthetics</th>\n",
       "      <th>of</th>\n",
       "      <th>the</th>\n",
       "      <td>1</td>\n",
       "      <td>0.00001</td>\n",
       "    </tr>\n",
       "  </tbody>\n",
       "</table>\n",
       "<p>53069 rows × 2 columns</p>\n",
       "</div>"
      ],
      "text/plain": [
       "                      n      mle\n",
       "w0        w1   w2               \n",
       "1         </s> <s>    1  0.00001\n",
       "10        </s> <s>    1  0.00001\n",
       "11        </s> <s>    1  0.00001\n",
       "118       of   the    1  0.00001\n",
       "12        </s> <s>    1  0.00001\n",
       "...                  ..      ...\n",
       "zizi      the  greek  1  0.00001\n",
       "          you  know   1  0.00001\n",
       "zonda     </s> <s>    2  0.00002\n",
       "à         leau </s>   1  0.00001\n",
       "æsthetics of   the    1  0.00001\n",
       "\n",
       "[53069 rows x 2 columns]"
      ]
     },
     "execution_count": 36,
     "metadata": {},
     "output_type": "execute_result"
    }
   ],
   "source": [
    "train.LM[2]"
   ]
  },
  {
   "cell_type": "code",
   "execution_count": 37,
   "id": "249a0cd0",
   "metadata": {
    "scrolled": false
   },
   "outputs": [
    {
     "data": {
      "text/html": [
       "<div>\n",
       "<style scoped>\n",
       "    .dataframe tbody tr th:only-of-type {\n",
       "        vertical-align: middle;\n",
       "    }\n",
       "\n",
       "    .dataframe tbody tr th {\n",
       "        vertical-align: top;\n",
       "    }\n",
       "\n",
       "    .dataframe thead th {\n",
       "        text-align: right;\n",
       "    }\n",
       "</style>\n",
       "<table border=\"1\" class=\"dataframe\">\n",
       "  <thead>\n",
       "    <tr style=\"text-align: right;\">\n",
       "      <th></th>\n",
       "      <th></th>\n",
       "      <th>n</th>\n",
       "      <th>mle</th>\n",
       "    </tr>\n",
       "    <tr>\n",
       "      <th>w0</th>\n",
       "      <th>w1</th>\n",
       "      <th></th>\n",
       "      <th></th>\n",
       "    </tr>\n",
       "  </thead>\n",
       "  <tbody>\n",
       "    <tr>\n",
       "      <th>&lt;s&gt;</th>\n",
       "      <th>paris</th>\n",
       "      <td>2</td>\n",
       "      <td>0.000020</td>\n",
       "    </tr>\n",
       "    <tr>\n",
       "      <th>enjoy</th>\n",
       "      <th>paris</th>\n",
       "      <td>1</td>\n",
       "      <td>0.000010</td>\n",
       "    </tr>\n",
       "    <tr>\n",
       "      <th>find</th>\n",
       "      <th>paris</th>\n",
       "      <td>1</td>\n",
       "      <td>0.000010</td>\n",
       "    </tr>\n",
       "    <tr>\n",
       "      <th>for</th>\n",
       "      <th>paris</th>\n",
       "      <td>1</td>\n",
       "      <td>0.000010</td>\n",
       "    </tr>\n",
       "    <tr>\n",
       "      <th>from</th>\n",
       "      <th>paris</th>\n",
       "      <td>2</td>\n",
       "      <td>0.000020</td>\n",
       "    </tr>\n",
       "    <tr>\n",
       "      <th>hates</th>\n",
       "      <th>paris</th>\n",
       "      <td>1</td>\n",
       "      <td>0.000010</td>\n",
       "    </tr>\n",
       "    <tr>\n",
       "      <th>in</th>\n",
       "      <th>paris</th>\n",
       "      <td>10</td>\n",
       "      <td>0.000101</td>\n",
       "    </tr>\n",
       "    <tr>\n",
       "      <th>leave</th>\n",
       "      <th>paris</th>\n",
       "      <td>2</td>\n",
       "      <td>0.000020</td>\n",
       "    </tr>\n",
       "    <tr>\n",
       "      <th>like</th>\n",
       "      <th>paris</th>\n",
       "      <td>5</td>\n",
       "      <td>0.000050</td>\n",
       "    </tr>\n",
       "    <tr>\n",
       "      <th>love</th>\n",
       "      <th>paris</th>\n",
       "      <td>1</td>\n",
       "      <td>0.000010</td>\n",
       "    </tr>\n",
       "    <tr>\n",
       "      <th>of</th>\n",
       "      <th>paris</th>\n",
       "      <td>2</td>\n",
       "      <td>0.000020</td>\n",
       "    </tr>\n",
       "    <tr>\n",
       "      <th>on</th>\n",
       "      <th>paris</th>\n",
       "      <td>1</td>\n",
       "      <td>0.000010</td>\n",
       "    </tr>\n",
       "    <tr>\n",
       "      <th>that</th>\n",
       "      <th>paris</th>\n",
       "      <td>1</td>\n",
       "      <td>0.000010</td>\n",
       "    </tr>\n",
       "    <tr>\n",
       "      <th>the</th>\n",
       "      <th>paris</th>\n",
       "      <td>3</td>\n",
       "      <td>0.000030</td>\n",
       "    </tr>\n",
       "    <tr>\n",
       "      <th>to</th>\n",
       "      <th>paris</th>\n",
       "      <td>5</td>\n",
       "      <td>0.000050</td>\n",
       "    </tr>\n",
       "  </tbody>\n",
       "</table>\n",
       "</div>"
      ],
      "text/plain": [
       "              n       mle\n",
       "w0    w1                 \n",
       "<s>   paris   2  0.000020\n",
       "enjoy paris   1  0.000010\n",
       "find  paris   1  0.000010\n",
       "for   paris   1  0.000010\n",
       "from  paris   2  0.000020\n",
       "hates paris   1  0.000010\n",
       "in    paris  10  0.000101\n",
       "leave paris   2  0.000020\n",
       "like  paris   5  0.000050\n",
       "love  paris   1  0.000010\n",
       "of    paris   2  0.000020\n",
       "on    paris   1  0.000010\n",
       "that  paris   1  0.000010\n",
       "the   paris   3  0.000030\n",
       "to    paris   5  0.000050"
      ]
     },
     "execution_count": 37,
     "metadata": {},
     "output_type": "execute_result"
    }
   ],
   "source": [
    "train.LM[1].query(\"w1 == 'paris'\")"
   ]
  },
  {
   "cell_type": "code",
   "execution_count": 38,
   "id": "13ca32b4",
   "metadata": {},
   "outputs": [],
   "source": [
    "csv_file = f\"../data/output/LM1.csv\"\n",
    "train.LM[0].to_csv(csv_file)"
   ]
  },
  {
   "cell_type": "code",
   "execution_count": 39,
   "id": "4e5194ac",
   "metadata": {},
   "outputs": [],
   "source": [
    "csv_file = f\"../data/output/LM2.csv\"\n",
    "train.LM[1].to_csv(csv_file)"
   ]
  },
  {
   "cell_type": "code",
   "execution_count": 40,
   "id": "d9b5278f",
   "metadata": {},
   "outputs": [],
   "source": [
    "csv_file = f\"../data/output/LM3.csv\"\n",
    "train.LM[2].to_csv(csv_file)"
   ]
  },
  {
   "cell_type": "markdown",
   "id": "5f637aa5",
   "metadata": {},
   "source": [
    "Above is the list of words that precede the word \"paris\", excluding stop words.\n",
    "\n",
    "Words like enjoy, find, hates, leave, like, love preceeded the word \"paris\" in the novel."
   ]
  },
  {
   "cell_type": "code",
   "execution_count": 41,
   "id": "3a8e679b",
   "metadata": {},
   "outputs": [],
   "source": [
    "model = NgramLanguageModel(train)\n",
    "model.apply_smoothing()"
   ]
  },
  {
   "cell_type": "code",
   "execution_count": 42,
   "id": "3bef1adb",
   "metadata": {},
   "outputs": [],
   "source": [
    "test_sents = \"\"\"\n",
    "We passed through a town and stopped.\n",
    "We walked to the station.\n",
    "I knelt and started to pray.\n",
    "She wanted to get out of town.\n",
    "\"\"\".split('\\n')[1:-1]"
   ]
  },
  {
   "cell_type": "markdown",
   "id": "06087134",
   "metadata": {},
   "source": [
    "Listing above sentences in the ascending order of bigram perpexity according to the language model generated from the text."
   ]
  },
  {
   "cell_type": "code",
   "execution_count": 43,
   "id": "69e70078",
   "metadata": {},
   "outputs": [],
   "source": [
    "test_sents = [s.lower() for s in test_sents]"
   ]
  },
  {
   "cell_type": "code",
   "execution_count": 44,
   "id": "55e5c376",
   "metadata": {},
   "outputs": [],
   "source": [
    "test = NgramCounter(test_sents, vocab)\n",
    "test.generate()"
   ]
  },
  {
   "cell_type": "code",
   "execution_count": 45,
   "id": "45177f2a",
   "metadata": {},
   "outputs": [],
   "source": [
    "model.predict(test)"
   ]
  },
  {
   "cell_type": "code",
   "execution_count": 46,
   "id": "31077f3f",
   "metadata": {
    "scrolled": true
   },
   "outputs": [
    {
     "data": {
      "text/html": [
       "<div>\n",
       "<style scoped>\n",
       "    .dataframe tbody tr th:only-of-type {\n",
       "        vertical-align: middle;\n",
       "    }\n",
       "\n",
       "    .dataframe tbody tr th {\n",
       "        vertical-align: top;\n",
       "    }\n",
       "\n",
       "    .dataframe thead th {\n",
       "        text-align: right;\n",
       "    }\n",
       "</style>\n",
       "<table border=\"1\" class=\"dataframe\">\n",
       "  <thead>\n",
       "    <tr style=\"text-align: right;\">\n",
       "      <th></th>\n",
       "      <th>sent_str</th>\n",
       "      <th>len</th>\n",
       "      <th>ng_1_ll</th>\n",
       "      <th>pp1</th>\n",
       "      <th>ng_2_ll</th>\n",
       "      <th>pp2</th>\n",
       "      <th>ng_3_ll</th>\n",
       "      <th>pp3</th>\n",
       "    </tr>\n",
       "  </thead>\n",
       "  <tbody>\n",
       "    <tr>\n",
       "      <th>0</th>\n",
       "      <td>we passed through a town and stopped.</td>\n",
       "      <td>10</td>\n",
       "      <td>-57.921133</td>\n",
       "      <td>55.411492</td>\n",
       "      <td>-80.144367</td>\n",
       "      <td>258.574594</td>\n",
       "      <td>-214.952702</td>\n",
       "      <td>2.956113e+06</td>\n",
       "    </tr>\n",
       "    <tr>\n",
       "      <th>1</th>\n",
       "      <td>we walked to the station.</td>\n",
       "      <td>8</td>\n",
       "      <td>-36.113228</td>\n",
       "      <td>22.850495</td>\n",
       "      <td>-57.767731</td>\n",
       "      <td>149.185800</td>\n",
       "      <td>-169.671066</td>\n",
       "      <td>2.423874e+06</td>\n",
       "    </tr>\n",
       "    <tr>\n",
       "      <th>2</th>\n",
       "      <td>i knelt and started to pray.</td>\n",
       "      <td>9</td>\n",
       "      <td>-50.071504</td>\n",
       "      <td>47.291218</td>\n",
       "      <td>-70.989348</td>\n",
       "      <td>236.829561</td>\n",
       "      <td>-192.108516</td>\n",
       "      <td>2.664421e+06</td>\n",
       "    </tr>\n",
       "    <tr>\n",
       "      <th>3</th>\n",
       "      <td>she wanted to get out of town.</td>\n",
       "      <td>10</td>\n",
       "      <td>-55.787948</td>\n",
       "      <td>47.795232</td>\n",
       "      <td>-85.204345</td>\n",
       "      <td>367.203115</td>\n",
       "      <td>-176.201424</td>\n",
       "      <td>2.014612e+05</td>\n",
       "    </tr>\n",
       "  </tbody>\n",
       "</table>\n",
       "</div>"
      ],
      "text/plain": [
       "                                sent_str  len    ng_1_ll        pp1  \\\n",
       "0  we passed through a town and stopped.   10 -57.921133  55.411492   \n",
       "1              we walked to the station.    8 -36.113228  22.850495   \n",
       "2           i knelt and started to pray.    9 -50.071504  47.291218   \n",
       "3         she wanted to get out of town.   10 -55.787948  47.795232   \n",
       "\n",
       "     ng_2_ll         pp2     ng_3_ll           pp3  \n",
       "0 -80.144367  258.574594 -214.952702  2.956113e+06  \n",
       "1 -57.767731  149.185800 -169.671066  2.423874e+06  \n",
       "2 -70.989348  236.829561 -192.108516  2.664421e+06  \n",
       "3 -85.204345  367.203115 -176.201424  2.014612e+05  "
      ]
     },
     "execution_count": 46,
     "metadata": {},
     "output_type": "execute_result"
    }
   ],
   "source": [
    "model.T.S"
   ]
  },
  {
   "cell_type": "code",
   "execution_count": 47,
   "id": "4895b78e",
   "metadata": {},
   "outputs": [
    {
     "data": {
      "text/plain": [
       "1                we walked to the station.\n",
       "2             i knelt and started to pray.\n",
       "0    we passed through a town and stopped.\n",
       "3           she wanted to get out of town.\n",
       "Name: sent_str, dtype: object"
      ]
     },
     "execution_count": 47,
     "metadata": {},
     "output_type": "execute_result"
    }
   ],
   "source": [
    "model.T.S.sort_values('pp2').sent_str"
   ]
  },
  {
   "cell_type": "markdown",
   "id": "c2e1e876",
   "metadata": {},
   "source": [
    "Speculation about gender and their spatial movements in novel.\n",
    "\n",
    "* `['he','she']` to select the indices.\n",
    "* `['came','went']` to select the columns."
   ]
  },
  {
   "cell_type": "code",
   "execution_count": 48,
   "id": "fcf512bc",
   "metadata": {},
   "outputs": [],
   "source": [
    "BGX = model.LM[1].n.unstack()"
   ]
  },
  {
   "cell_type": "code",
   "execution_count": 49,
   "id": "bf9f585a",
   "metadata": {},
   "outputs": [
    {
     "name": "stdout",
     "output_type": "stream",
     "text": [
      "w1   came  went\n",
      "w0             \n",
      "he   17.0  12.0\n",
      "she   5.0   5.0\n"
     ]
    }
   ],
   "source": [
    "print(BGX.loc[['he','she'],['came','went']])"
   ]
  },
  {
   "cell_type": "markdown",
   "id": "c731d441",
   "metadata": {},
   "source": [
    "Men moves more than women. There are more male characters than female."
   ]
  },
  {
   "cell_type": "markdown",
   "id": "52648c3a",
   "metadata": {},
   "source": [
    "### Generate a text using the generate_text function."
   ]
  },
  {
   "cell_type": "code",
   "execution_count": 50,
   "id": "a42b1f95",
   "metadata": {},
   "outputs": [
    {
     "name": "stdout",
     "output_type": "stream",
     "text": [
      "01. COHN STARTED TO READ IT.\n",
      "\n",
      "02. HAVE YOU BEEN IN A LANGUAGE SHE DID NOT MEAN ANYTHING.\n",
      "\n",
      "03. HE TOOK A TAXI.\n",
      "\n",
      "04. CLEARLY.\n",
      "\n",
      "05. .\n",
      "\n",
      "06. GOOD.\n",
      "\n",
      "07. NOT YET.\n",
      "\n",
      "08. .\n",
      "\n",
      "09. WE DANCED TIGHT IN THE BOTTLE DRY AND HELD THEM AND FOUND THE TWO WINE SKINS FOR ME.\n",
      "\n",
      "10. HADNT EATEN FOR THREE I SAID.\n",
      "\n",
      "11. I RATHER THINK I HURT HIM MOST BADLY.\n",
      "\n",
      "12. CLEAN THROUGH.\n",
      "\n",
      "13. WE PASSED A CROSSROADS AND CROSSED THE PLAIN A COMPACT WHITE SKY LINE ON THE WALL.\n",
      "\n",
      "14. MASON AND I STOPPED SHE CAME IN FLASHES.\n",
      "\n",
      "15. .\n",
      "\n",
      "16. IN A MOTOR CAR FROM THE BONAPARTIST GROUPS SOME DATE.\n",
      "\n",
      "17. THATS ALL RIGHT.\n",
      "\n",
      "18. .\n",
      "\n",
      "19. IM A LITTLE SOMETHING FOR NOTHING.\n",
      "\n",
      "20. I CANT SAY IVE PLAYED ANY THIS YEAR.\n",
      "\n"
     ]
    }
   ],
   "source": [
    "model.generate_text()"
   ]
  },
  {
   "cell_type": "code",
   "execution_count": 51,
   "id": "74e43def",
   "metadata": {
    "scrolled": true
   },
   "outputs": [
    {
     "name": "stdout",
     "output_type": "stream",
     "text": [
      "01. MIKE HAD AN ATTACK OF BOILS WHICH WERE OF GOOD FAMILY.\n",
      "\n",
      "02. OH YES.\n",
      "\n",
      "03. BACK OF THE WOODED HILLS WAY OFF.\n",
      "\n",
      "04. THAT HAS ALL HAPPENED BEFORE.\n",
      "\n",
      "05. THE BULL AND THEN THEY SLAPPED US ON A BAGGAGE TRUCK AND WAITED OUTSIDE IN THE NIGHT.\n",
      "\n",
      "06. .\n",
      "\n",
      "07. .\n",
      "\n",
      "08. NO.\n",
      "\n",
      "09. .\n",
      "\n",
      "10. SOMETIMES IT DIPPED DOWN BUT ROSE AGAIN STEEPLY.\n",
      "\n",
      "11. .\n",
      "\n",
      "12. WOULD I BE DOWN.\n",
      "\n",
      "13. ONE OF US WERE THE LIGHTS FROM THE CORRALS WITH APERTURES IN THE BARRERAS AND I SAT OUT ON THE TOP OF THE BILL HAD BEEN AWAY WITH HER LETT.\n",
      "\n",
      "14. .\n",
      "\n",
      "15. BILL AND SOME IN THERE YOUD PROBABLY DETACH ONE OF THEM.\n",
      "\n",
      "16. DID YOU THINK THATS BRIGHT OF ME THE BOX IN MY MIND.\n",
      "\n",
      "17. SHE WAS NOT SIMPLY A LITTLE MORE OF THIS ESTABLISHMENT WERE RIGIDLY SELECTIONED.\n",
      "\n",
      "18. DONT CALL ME JAKE.\n",
      "\n",
      "19. THE STREET AND THEN TOOK A LONG WOODEN COUNTER WITH TWO WOMEN BEFORE.\n",
      "\n",
      "20. I ASKED HIM IF HE MARRIES ME LIKE HES ALWAYS PROMISED HE WOULD RATHER HAVE BEEN AROUND.\n",
      "\n"
     ]
    }
   ],
   "source": [
    "model.generate_text()"
   ]
  },
  {
   "cell_type": "markdown",
   "id": "1970602e",
   "metadata": {},
   "source": [
    "### Redundancy for each n-gram models"
   ]
  },
  {
   "cell_type": "code",
   "execution_count": 52,
   "id": "62946ec5",
   "metadata": {},
   "outputs": [],
   "source": [
    "V = len(vocab)"
   ]
  },
  {
   "cell_type": "code",
   "execution_count": 53,
   "id": "937195d7",
   "metadata": {},
   "outputs": [],
   "source": [
    "R = []\n",
    "for i in range(3):\n",
    "    N = V**(i+1)\n",
    "    H = (train.LM[i]['mle'] * np.log2(1/train.LM[i]['mle'])).sum()\n",
    "    Hmax = np.log2(N)\n",
    "    R.append(int(round(1 - H/Hmax, 2) * 100))"
   ]
  },
  {
   "cell_type": "code",
   "execution_count": 54,
   "id": "ac4131e8",
   "metadata": {
    "scrolled": true
   },
   "outputs": [
    {
     "data": {
      "text/plain": [
       "[40, 54, 64]"
      ]
     },
     "execution_count": 54,
     "metadata": {},
     "output_type": "execute_result"
    }
   ],
   "source": [
    "R"
   ]
  },
  {
   "cell_type": "markdown",
   "id": "2675240f",
   "metadata": {},
   "source": [
    "The Redundancy increases from model 0 to 2."
   ]
  },
  {
   "cell_type": "markdown",
   "id": "15a3163f",
   "metadata": {},
   "source": [
    "### Part of Speech"
   ]
  },
  {
   "cell_type": "code",
   "execution_count": 55,
   "id": "8876ee59",
   "metadata": {},
   "outputs": [],
   "source": [
    "import re\n",
    "import numpy as np\n",
    "import matplotlib.pyplot as plt\n",
    "import pandas as pd\n",
    "import nltk\n",
    "from nltk.corpus import wordnet as wn\n",
    "from nltk.stem.wordnet import WordNetLemmatizer\n",
    "import seaborn as sns\n",
    "import networkx as nx"
   ]
  },
  {
   "cell_type": "code",
   "execution_count": 56,
   "id": "359ab643",
   "metadata": {},
   "outputs": [],
   "source": [
    "with open(f\"../data/pg67138.txt\", 'r', encoding='utf-8-sig') as file:\n",
    "    epub_read = file.readlines()[88:10224]\n",
    "    txt = \" \".join(epub_read).replace('\\n \\n', '').replace('\\n', '')\n"
   ]
  },
  {
   "cell_type": "code",
   "execution_count": 57,
   "id": "054f24df",
   "metadata": {},
   "outputs": [],
   "source": [
    "pos = nltk.pos_tag(nltk.word_tokenize(txt))\n",
    "pos = np.array(pos).transpose()"
   ]
  },
  {
   "cell_type": "code",
   "execution_count": 58,
   "id": "4da0dc17",
   "metadata": {},
   "outputs": [
    {
     "data": {
      "text/plain": [
       "' Robert Cohn was once middleweight boxing champion of Princeton. Do not think that I am very much impressed by that as a boxing title, but it meant a lot to Cohn. He cared nothing for boxing, in fact he disliked it, but he learned it painfully and thoroughly to counteract the feeling of inferiority and shyness he had felt on being treated as a Jew at Princeton. There was a certain inner comfort in knowing he could knock down anybody who was snooty to him, although, being very shy and a thoroughl'"
      ]
     },
     "execution_count": 58,
     "metadata": {},
     "output_type": "execute_result"
    }
   ],
   "source": [
    "txt[:500]"
   ]
  },
  {
   "cell_type": "code",
   "execution_count": 59,
   "id": "088dcc6b",
   "metadata": {},
   "outputs": [
    {
     "data": {
      "text/plain": [
       "array([['Robert', 'Cohn', 'was', ..., 'so', '?', '”'],\n",
       "       ['NNP', 'NNP', 'VBD', ..., 'RB', '.', 'NN']], dtype='<U18')"
      ]
     },
     "execution_count": 59,
     "metadata": {},
     "output_type": "execute_result"
    }
   ],
   "source": [
    "pos"
   ]
  },
  {
   "cell_type": "code",
   "execution_count": 60,
   "id": "bb9b141e",
   "metadata": {},
   "outputs": [
    {
     "data": {
      "text/html": [
       "<div>\n",
       "<style scoped>\n",
       "    .dataframe tbody tr th:only-of-type {\n",
       "        vertical-align: middle;\n",
       "    }\n",
       "\n",
       "    .dataframe tbody tr th {\n",
       "        vertical-align: top;\n",
       "    }\n",
       "\n",
       "    .dataframe thead th {\n",
       "        text-align: right;\n",
       "    }\n",
       "</style>\n",
       "<table border=\"1\" class=\"dataframe\">\n",
       "  <thead>\n",
       "    <tr style=\"text-align: right;\">\n",
       "      <th></th>\n",
       "      <th>0</th>\n",
       "      <th>1</th>\n",
       "      <th>2</th>\n",
       "      <th>3</th>\n",
       "      <th>4</th>\n",
       "      <th>5</th>\n",
       "      <th>6</th>\n",
       "      <th>7</th>\n",
       "      <th>8</th>\n",
       "      <th>9</th>\n",
       "      <th>...</th>\n",
       "      <th>88651</th>\n",
       "      <th>88652</th>\n",
       "      <th>88653</th>\n",
       "      <th>88654</th>\n",
       "      <th>88655</th>\n",
       "      <th>88656</th>\n",
       "      <th>88657</th>\n",
       "      <th>88658</th>\n",
       "      <th>88659</th>\n",
       "      <th>88660</th>\n",
       "    </tr>\n",
       "  </thead>\n",
       "  <tbody>\n",
       "    <tr>\n",
       "      <th>0</th>\n",
       "      <td>Robert</td>\n",
       "      <td>Cohn</td>\n",
       "      <td>was</td>\n",
       "      <td>once</td>\n",
       "      <td>middleweight</td>\n",
       "      <td>boxing</td>\n",
       "      <td>champion</td>\n",
       "      <td>of</td>\n",
       "      <td>Princeton</td>\n",
       "      <td>.</td>\n",
       "      <td>...</td>\n",
       "      <td>Isn</td>\n",
       "      <td>’</td>\n",
       "      <td>t</td>\n",
       "      <td>it</td>\n",
       "      <td>pretty</td>\n",
       "      <td>to</td>\n",
       "      <td>think</td>\n",
       "      <td>so</td>\n",
       "      <td>?</td>\n",
       "      <td>”</td>\n",
       "    </tr>\n",
       "    <tr>\n",
       "      <th>1</th>\n",
       "      <td>NNP</td>\n",
       "      <td>NNP</td>\n",
       "      <td>VBD</td>\n",
       "      <td>RB</td>\n",
       "      <td>JJ</td>\n",
       "      <td>VBG</td>\n",
       "      <td>NN</td>\n",
       "      <td>IN</td>\n",
       "      <td>NNP</td>\n",
       "      <td>.</td>\n",
       "      <td>...</td>\n",
       "      <td>NNP</td>\n",
       "      <td>NNP</td>\n",
       "      <td>VBD</td>\n",
       "      <td>PRP</td>\n",
       "      <td>RB</td>\n",
       "      <td>TO</td>\n",
       "      <td>VB</td>\n",
       "      <td>RB</td>\n",
       "      <td>.</td>\n",
       "      <td>NN</td>\n",
       "    </tr>\n",
       "  </tbody>\n",
       "</table>\n",
       "<p>2 rows × 88661 columns</p>\n",
       "</div>"
      ],
      "text/plain": [
       "    0     1     2     3             4       5         6     7          8      \\\n",
       "0  Robert  Cohn   was  once  middleweight  boxing  champion    of  Princeton   \n",
       "1     NNP   NNP   VBD    RB            JJ     VBG        NN    IN        NNP   \n",
       "\n",
       "  9      ... 88651 88652 88653 88654   88655 88656  88657 88658 88659 88660  \n",
       "0     .  ...   Isn     ’     t    it  pretty    to  think    so     ?     ”  \n",
       "1     .  ...   NNP   NNP   VBD   PRP      RB    TO     VB    RB     .    NN  \n",
       "\n",
       "[2 rows x 88661 columns]"
      ]
     },
     "execution_count": 60,
     "metadata": {},
     "output_type": "execute_result"
    }
   ],
   "source": [
    "df_pos = pd.DataFrame(pos)\n",
    "df_pos"
   ]
  },
  {
   "cell_type": "code",
   "execution_count": 61,
   "id": "4dad4627",
   "metadata": {},
   "outputs": [],
   "source": [
    "df_pos_transpose = df_pos.T "
   ]
  },
  {
   "cell_type": "code",
   "execution_count": 62,
   "id": "317a3f09",
   "metadata": {},
   "outputs": [],
   "source": [
    "df_pos_transpose = df_pos_transpose.rename(columns={0: \"token_str\", 1: \"pos\"}) #renaming columns"
   ]
  },
  {
   "cell_type": "code",
   "execution_count": 63,
   "id": "8d2f7d5b",
   "metadata": {},
   "outputs": [
    {
     "data": {
      "text/html": [
       "<div>\n",
       "<style scoped>\n",
       "    .dataframe tbody tr th:only-of-type {\n",
       "        vertical-align: middle;\n",
       "    }\n",
       "\n",
       "    .dataframe tbody tr th {\n",
       "        vertical-align: top;\n",
       "    }\n",
       "\n",
       "    .dataframe thead th {\n",
       "        text-align: right;\n",
       "    }\n",
       "</style>\n",
       "<table border=\"1\" class=\"dataframe\">\n",
       "  <thead>\n",
       "    <tr style=\"text-align: right;\">\n",
       "      <th></th>\n",
       "      <th>token_str</th>\n",
       "      <th>pos</th>\n",
       "    </tr>\n",
       "  </thead>\n",
       "  <tbody>\n",
       "    <tr>\n",
       "      <th>0</th>\n",
       "      <td>Robert</td>\n",
       "      <td>NNP</td>\n",
       "    </tr>\n",
       "    <tr>\n",
       "      <th>1</th>\n",
       "      <td>Cohn</td>\n",
       "      <td>NNP</td>\n",
       "    </tr>\n",
       "    <tr>\n",
       "      <th>2</th>\n",
       "      <td>was</td>\n",
       "      <td>VBD</td>\n",
       "    </tr>\n",
       "    <tr>\n",
       "      <th>3</th>\n",
       "      <td>once</td>\n",
       "      <td>RB</td>\n",
       "    </tr>\n",
       "    <tr>\n",
       "      <th>4</th>\n",
       "      <td>middleweight</td>\n",
       "      <td>JJ</td>\n",
       "    </tr>\n",
       "    <tr>\n",
       "      <th>...</th>\n",
       "      <td>...</td>\n",
       "      <td>...</td>\n",
       "    </tr>\n",
       "    <tr>\n",
       "      <th>88654</th>\n",
       "      <td>it</td>\n",
       "      <td>PRP</td>\n",
       "    </tr>\n",
       "    <tr>\n",
       "      <th>88655</th>\n",
       "      <td>pretty</td>\n",
       "      <td>RB</td>\n",
       "    </tr>\n",
       "    <tr>\n",
       "      <th>88656</th>\n",
       "      <td>to</td>\n",
       "      <td>TO</td>\n",
       "    </tr>\n",
       "    <tr>\n",
       "      <th>88657</th>\n",
       "      <td>think</td>\n",
       "      <td>VB</td>\n",
       "    </tr>\n",
       "    <tr>\n",
       "      <th>88658</th>\n",
       "      <td>so</td>\n",
       "      <td>RB</td>\n",
       "    </tr>\n",
       "  </tbody>\n",
       "</table>\n",
       "<p>69718 rows × 2 columns</p>\n",
       "</div>"
      ],
      "text/plain": [
       "          token_str  pos\n",
       "0            Robert  NNP\n",
       "1              Cohn  NNP\n",
       "2               was  VBD\n",
       "3              once   RB\n",
       "4      middleweight   JJ\n",
       "...             ...  ...\n",
       "88654            it  PRP\n",
       "88655        pretty   RB\n",
       "88656            to   TO\n",
       "88657         think   VB\n",
       "88658            so   RB\n",
       "\n",
       "[69718 rows x 2 columns]"
      ]
     },
     "execution_count": 63,
     "metadata": {},
     "output_type": "execute_result"
    }
   ],
   "source": [
    "alpha_pattern = re.compile(r'[a-zA-Z]')\n",
    "POS = df_pos_transpose[df_pos_transpose['token_str'].apply(lambda x: alpha_pattern.search(x) is not None)]\n",
    "POS"
   ]
  },
  {
   "cell_type": "code",
   "execution_count": 64,
   "id": "bf331cf6",
   "metadata": {},
   "outputs": [
    {
     "data": {
      "text/plain": [
       "69718"
      ]
     },
     "execution_count": 64,
     "metadata": {},
     "output_type": "execute_result"
    }
   ],
   "source": [
    "len(POS)"
   ]
  },
  {
   "cell_type": "code",
   "execution_count": 65,
   "id": "9550bb07",
   "metadata": {},
   "outputs": [
    {
     "name": "stderr",
     "output_type": "stream",
     "text": [
      "<ipython-input-65-1a35d7942996>:1: SettingWithCopyWarning: \n",
      "A value is trying to be set on a copy of a slice from a DataFrame.\n",
      "Try using .loc[row_indexer,col_indexer] = value instead\n",
      "\n",
      "See the caveats in the documentation: https://pandas.pydata.org/pandas-docs/stable/user_guide/indexing.html#returning-a-view-versus-a-copy\n",
      "  POS['n'] = POS['token_str'].str.len()\n"
     ]
    },
    {
     "data": {
      "text/html": [
       "<div>\n",
       "<style scoped>\n",
       "    .dataframe tbody tr th:only-of-type {\n",
       "        vertical-align: middle;\n",
       "    }\n",
       "\n",
       "    .dataframe tbody tr th {\n",
       "        vertical-align: top;\n",
       "    }\n",
       "\n",
       "    .dataframe thead th {\n",
       "        text-align: right;\n",
       "    }\n",
       "</style>\n",
       "<table border=\"1\" class=\"dataframe\">\n",
       "  <thead>\n",
       "    <tr style=\"text-align: right;\">\n",
       "      <th></th>\n",
       "      <th>token_str</th>\n",
       "      <th>pos</th>\n",
       "      <th>n</th>\n",
       "    </tr>\n",
       "  </thead>\n",
       "  <tbody>\n",
       "    <tr>\n",
       "      <th>0</th>\n",
       "      <td>Robert</td>\n",
       "      <td>NNP</td>\n",
       "      <td>6</td>\n",
       "    </tr>\n",
       "    <tr>\n",
       "      <th>1</th>\n",
       "      <td>Cohn</td>\n",
       "      <td>NNP</td>\n",
       "      <td>4</td>\n",
       "    </tr>\n",
       "    <tr>\n",
       "      <th>2</th>\n",
       "      <td>was</td>\n",
       "      <td>VBD</td>\n",
       "      <td>3</td>\n",
       "    </tr>\n",
       "    <tr>\n",
       "      <th>3</th>\n",
       "      <td>once</td>\n",
       "      <td>RB</td>\n",
       "      <td>4</td>\n",
       "    </tr>\n",
       "    <tr>\n",
       "      <th>4</th>\n",
       "      <td>middleweight</td>\n",
       "      <td>JJ</td>\n",
       "      <td>12</td>\n",
       "    </tr>\n",
       "    <tr>\n",
       "      <th>...</th>\n",
       "      <td>...</td>\n",
       "      <td>...</td>\n",
       "      <td>...</td>\n",
       "    </tr>\n",
       "    <tr>\n",
       "      <th>88654</th>\n",
       "      <td>it</td>\n",
       "      <td>PRP</td>\n",
       "      <td>2</td>\n",
       "    </tr>\n",
       "    <tr>\n",
       "      <th>88655</th>\n",
       "      <td>pretty</td>\n",
       "      <td>RB</td>\n",
       "      <td>6</td>\n",
       "    </tr>\n",
       "    <tr>\n",
       "      <th>88656</th>\n",
       "      <td>to</td>\n",
       "      <td>TO</td>\n",
       "      <td>2</td>\n",
       "    </tr>\n",
       "    <tr>\n",
       "      <th>88657</th>\n",
       "      <td>think</td>\n",
       "      <td>VB</td>\n",
       "      <td>5</td>\n",
       "    </tr>\n",
       "    <tr>\n",
       "      <th>88658</th>\n",
       "      <td>so</td>\n",
       "      <td>RB</td>\n",
       "      <td>2</td>\n",
       "    </tr>\n",
       "  </tbody>\n",
       "</table>\n",
       "<p>69718 rows × 3 columns</p>\n",
       "</div>"
      ],
      "text/plain": [
       "          token_str  pos   n\n",
       "0            Robert  NNP   6\n",
       "1              Cohn  NNP   4\n",
       "2               was  VBD   3\n",
       "3              once   RB   4\n",
       "4      middleweight   JJ  12\n",
       "...             ...  ...  ..\n",
       "88654            it  PRP   2\n",
       "88655        pretty   RB   6\n",
       "88656            to   TO   2\n",
       "88657         think   VB   5\n",
       "88658            so   RB   2\n",
       "\n",
       "[69718 rows x 3 columns]"
      ]
     },
     "execution_count": 65,
     "metadata": {},
     "output_type": "execute_result"
    }
   ],
   "source": [
    "POS['n'] = POS['token_str'].str.len()\n",
    "POS"
   ]
  },
  {
   "cell_type": "code",
   "execution_count": 66,
   "id": "c1103c7a",
   "metadata": {
    "scrolled": true
   },
   "outputs": [
    {
     "data": {
      "text/plain": [
       "count    69718.000000\n",
       "mean         3.900815\n",
       "std          2.039321\n",
       "min          1.000000\n",
       "25%          3.000000\n",
       "50%          4.000000\n",
       "75%          5.000000\n",
       "max         18.000000\n",
       "Name: n, dtype: float64"
      ]
     },
     "execution_count": 66,
     "metadata": {},
     "output_type": "execute_result"
    }
   ],
   "source": [
    "POS.n.describe()"
   ]
  },
  {
   "cell_type": "code",
   "execution_count": 67,
   "id": "3ac9f34c",
   "metadata": {
    "scrolled": true
   },
   "outputs": [
    {
     "data": {
      "text/html": [
       "<div>\n",
       "<style scoped>\n",
       "    .dataframe tbody tr th:only-of-type {\n",
       "        vertical-align: middle;\n",
       "    }\n",
       "\n",
       "    .dataframe tbody tr th {\n",
       "        vertical-align: top;\n",
       "    }\n",
       "\n",
       "    .dataframe thead th {\n",
       "        text-align: right;\n",
       "    }\n",
       "</style>\n",
       "<table border=\"1\" class=\"dataframe\">\n",
       "  <thead>\n",
       "    <tr style=\"text-align: right;\">\n",
       "      <th></th>\n",
       "      <th>token_str</th>\n",
       "      <th>pos</th>\n",
       "      <th>n</th>\n",
       "    </tr>\n",
       "  </thead>\n",
       "  <tbody>\n",
       "    <tr>\n",
       "      <th>464</th>\n",
       "      <td>self-consciousness</td>\n",
       "      <td>JJ</td>\n",
       "      <td>18</td>\n",
       "    </tr>\n",
       "  </tbody>\n",
       "</table>\n",
       "</div>"
      ],
      "text/plain": [
       "              token_str pos   n\n",
       "464  self-consciousness  JJ  18"
      ]
     },
     "execution_count": 67,
     "metadata": {},
     "output_type": "execute_result"
    }
   ],
   "source": [
    "POS[POS['n']==18]"
   ]
  },
  {
   "cell_type": "markdown",
   "id": "0ab22723",
   "metadata": {},
   "source": [
    "Looking at the 'n' column, we can see the average word is about 3-4 words long (specifically, 3.9). The minimum length of a word is one, which can be seen with words like \"a\". 25% of the words in the novel fall to be three letters long. An example of this could be \"him\", \"her\", \"the\", etc. About 50% of words fall to be 4 letters long. 75% of words are a length of five letters. And lastly, the maximum length of a word is 18, which is \"\"self-conciousness\"."
   ]
  },
  {
   "cell_type": "code",
   "execution_count": 68,
   "id": "fece0ae3",
   "metadata": {},
   "outputs": [],
   "source": [
    "csv_file = f\"../data/output/pos.csv\"\n",
    "POS.to_csv(csv_file)"
   ]
  },
  {
   "cell_type": "markdown",
   "id": "cd446154",
   "metadata": {},
   "source": [
    "### Looking at Most Frequent Nouns"
   ]
  },
  {
   "cell_type": "code",
   "execution_count": 69,
   "id": "301fdfdb",
   "metadata": {},
   "outputs": [],
   "source": [
    "nouns = pos[0][pos[1] == 'NNP']"
   ]
  },
  {
   "cell_type": "code",
   "execution_count": 70,
   "id": "61c22f2b",
   "metadata": {},
   "outputs": [],
   "source": [
    "nouns = pd.Series(nouns)\n",
    "nouns_df = pd.DataFrame(nouns)"
   ]
  },
  {
   "cell_type": "code",
   "execution_count": 71,
   "id": "34b27128",
   "metadata": {},
   "outputs": [],
   "source": [
    "nouns_df = nouns_df.rename(columns={0: \"Word\"})"
   ]
  },
  {
   "cell_type": "code",
   "execution_count": 72,
   "id": "e8eed5d5",
   "metadata": {
    "scrolled": true
   },
   "outputs": [
    {
     "data": {
      "image/png": "[encoded data removed]",
      "text/plain": [
       "<Figure size 432x288 with 1 Axes>"
      ]
     },
     "metadata": {
      "needs_background": "light"
     },
     "output_type": "display_data"
    }
   ],
   "source": [
    "import matplotlib.pyplot as plt\n",
    "\n",
    "remove_words = ['Mr.','Mrs.', \"No\", \"’\", '…' , ',', '”', '“', '*', 'Oh','Egg','New','York','West','East']\n",
    "nouns = nouns[~nouns.isin(remove_words)]\n",
    "top_nouns = nouns.value_counts().head(15)\n",
    "\n",
    "top_nouns.plot(kind='bar')\n",
    "\n",
    "plt.title('Top 10 Nouns')\n",
    "plt.xlabel('Noun')\n",
    "plt.ylabel('Frequency')\n",
    "\n",
    "plt.show()\n"
   ]
  },
  {
   "cell_type": "code",
   "execution_count": 73,
   "id": "f9288c68",
   "metadata": {},
   "outputs": [],
   "source": [
    "top_fifteen_series = nouns.value_counts().sort_values(ascending = False)[:15]\n",
    "top_fifteen_df = pd.DataFrame(top_fifteen_series)"
   ]
  },
  {
   "cell_type": "code",
   "execution_count": 74,
   "id": "596492bd",
   "metadata": {
    "scrolled": true
   },
   "outputs": [
    {
     "data": {
      "text/html": [
       "<div>\n",
       "<style scoped>\n",
       "    .dataframe tbody tr th:only-of-type {\n",
       "        vertical-align: middle;\n",
       "    }\n",
       "\n",
       "    .dataframe tbody tr th {\n",
       "        vertical-align: top;\n",
       "    }\n",
       "\n",
       "    .dataframe thead th {\n",
       "        text-align: right;\n",
       "    }\n",
       "</style>\n",
       "<table border=\"1\" class=\"dataframe\">\n",
       "  <thead>\n",
       "    <tr style=\"text-align: right;\">\n",
       "      <th></th>\n",
       "      <th>Noun</th>\n",
       "      <th>Count</th>\n",
       "    </tr>\n",
       "  </thead>\n",
       "  <tbody>\n",
       "    <tr>\n",
       "      <th>0</th>\n",
       "      <td>Brett</td>\n",
       "      <td>424</td>\n",
       "    </tr>\n",
       "    <tr>\n",
       "      <th>1</th>\n",
       "      <td>Bill</td>\n",
       "      <td>330</td>\n",
       "    </tr>\n",
       "    <tr>\n",
       "      <th>2</th>\n",
       "      <td>Mike</td>\n",
       "      <td>236</td>\n",
       "    </tr>\n",
       "    <tr>\n",
       "      <th>3</th>\n",
       "      <td>Cohn</td>\n",
       "      <td>221</td>\n",
       "    </tr>\n",
       "    <tr>\n",
       "      <th>4</th>\n",
       "      <td>Don</td>\n",
       "      <td>123</td>\n",
       "    </tr>\n",
       "    <tr>\n",
       "      <th>5</th>\n",
       "      <td>Romero</td>\n",
       "      <td>110</td>\n",
       "    </tr>\n",
       "    <tr>\n",
       "      <th>6</th>\n",
       "      <td>Robert</td>\n",
       "      <td>108</td>\n",
       "    </tr>\n",
       "    <tr>\n",
       "      <th>7</th>\n",
       "      <td>Jake</td>\n",
       "      <td>89</td>\n",
       "    </tr>\n",
       "    <tr>\n",
       "      <th>8</th>\n",
       "      <td>Well</td>\n",
       "      <td>62</td>\n",
       "    </tr>\n",
       "    <tr>\n",
       "      <th>9</th>\n",
       "      <td>Come</td>\n",
       "      <td>62</td>\n",
       "    </tr>\n",
       "    <tr>\n",
       "      <th>10</th>\n",
       "      <td>Yes</td>\n",
       "      <td>58</td>\n",
       "    </tr>\n",
       "    <tr>\n",
       "      <th>11</th>\n",
       "      <td>Montoya</td>\n",
       "      <td>51</td>\n",
       "    </tr>\n",
       "    <tr>\n",
       "      <th>12</th>\n",
       "      <td>Let</td>\n",
       "      <td>44</td>\n",
       "    </tr>\n",
       "    <tr>\n",
       "      <th>13</th>\n",
       "      <td>San</td>\n",
       "      <td>43</td>\n",
       "    </tr>\n",
       "    <tr>\n",
       "      <th>14</th>\n",
       "      <td>How</td>\n",
       "      <td>40</td>\n",
       "    </tr>\n",
       "  </tbody>\n",
       "</table>\n",
       "</div>"
      ],
      "text/plain": [
       "       Noun  Count\n",
       "0     Brett    424\n",
       "1      Bill    330\n",
       "2      Mike    236\n",
       "3      Cohn    221\n",
       "4       Don    123\n",
       "5    Romero    110\n",
       "6    Robert    108\n",
       "7      Jake     89\n",
       "8      Well     62\n",
       "9      Come     62\n",
       "10      Yes     58\n",
       "11  Montoya     51\n",
       "12      Let     44\n",
       "13      San     43\n",
       "14      How     40"
      ]
     },
     "execution_count": 74,
     "metadata": {},
     "output_type": "execute_result"
    }
   ],
   "source": [
    "top_fifteen_df= top_fifteen_df.reset_index() #resetting index - need index (nouns) as a column\n",
    "top_fifteen_df= top_fifteen_df.rename(columns={\"index\": \"Noun\", 0: \"Count\"}) #renaming columns\n",
    "top_fifteen_df"
   ]
  },
  {
   "cell_type": "code",
   "execution_count": 75,
   "id": "2b90a40a",
   "metadata": {},
   "outputs": [
    {
     "data": {
      "image/png": "[encoded data removed]",
      "text/plain": [
       "<Figure size 432x288 with 1 Axes>"
      ]
     },
     "metadata": {},
     "output_type": "display_data"
    }
   ],
   "source": [
    "import matplotlib.pyplot as plt\n",
    "\n",
    "my_circle = plt.Circle( (0,0), 0.7, color='white')\n",
    "plt.pie(top_fifteen_df['Count'], labels=top_fifteen_df['Noun'], colors=['#9B59B6','#52BE80','#F1C40F','#E67E22','#2E86C1']) #colors gotten from https://htmlcolorcodes.com/\n",
    "p = plt.gcf() \n",
    "p.gca().add_artist(my_circle)\n",
    "plt.show()"
   ]
  },
  {
   "cell_type": "markdown",
   "id": "0e8451a7",
   "metadata": {},
   "source": [
    "### Looking at Most Frequent Verbs"
   ]
  },
  {
   "cell_type": "code",
   "execution_count": 76,
   "id": "3c0dba97",
   "metadata": {},
   "outputs": [],
   "source": [
    "tfs_entries = nouns.value_counts().sort_values(ascending = False)[:30].index"
   ]
  },
  {
   "cell_type": "code",
   "execution_count": 77,
   "id": "84d51c33",
   "metadata": {},
   "outputs": [],
   "source": [
    "lemmatizer = WordNetLemmatizer()"
   ]
  },
  {
   "cell_type": "code",
   "execution_count": 78,
   "id": "ad1671dc",
   "metadata": {},
   "outputs": [],
   "source": [
    "verbs = pd.DataFrame()\n",
    "\n",
    "for i in tfs_entries:\n",
    "    for j in np.argwhere([pos[0] == i])[:,1]:\n",
    "        if 'VB' in pos[1,j+1]:\n",
    "            df = pd.DataFrame.from_dict({'entity': [pos[0,j]], 'verb': [lemmatizer.lemmatize(pos[0,j+1], wn.VERB)]})\n",
    "            verbs = pd.concat([verbs, df], ignore_index=True)"
   ]
  },
  {
   "cell_type": "code",
   "execution_count": 79,
   "id": "b8b57320",
   "metadata": {},
   "outputs": [
    {
     "data": {
      "text/plain": [
       "say      396\n",
       "be       123\n",
       "ask       51\n",
       "have      42\n",
       "do        33\n",
       "go        29\n",
       "come      29\n",
       "look      28\n",
       "smile     13\n",
       "put       13\n",
       "want      12\n",
       "take      11\n",
       "stand     10\n",
       "laugh     10\n",
       "call      10\n",
       "turn       8\n",
       "start      8\n",
       "’          7\n",
       "sit        7\n",
       "give       6\n",
       "Name: verb, dtype: int64"
      ]
     },
     "execution_count": 79,
     "metadata": {},
     "output_type": "execute_result"
    }
   ],
   "source": [
    "com_verbs = verbs.verb.value_counts().sort_values(ascending = False)\n",
    "top_20_com_verbs = com_verbs[:20]\n",
    "top_20_com_verbs"
   ]
  },
  {
   "cell_type": "code",
   "execution_count": 80,
   "id": "0be6c778",
   "metadata": {},
   "outputs": [
    {
     "data": {
      "text/html": [
       "<div>\n",
       "<style scoped>\n",
       "    .dataframe tbody tr th:only-of-type {\n",
       "        vertical-align: middle;\n",
       "    }\n",
       "\n",
       "    .dataframe tbody tr th {\n",
       "        vertical-align: top;\n",
       "    }\n",
       "\n",
       "    .dataframe thead th {\n",
       "        text-align: right;\n",
       "    }\n",
       "</style>\n",
       "<table border=\"1\" class=\"dataframe\">\n",
       "  <thead>\n",
       "    <tr style=\"text-align: right;\">\n",
       "      <th></th>\n",
       "      <th>Verb</th>\n",
       "      <th>Count</th>\n",
       "    </tr>\n",
       "  </thead>\n",
       "  <tbody>\n",
       "    <tr>\n",
       "      <th>0</th>\n",
       "      <td>say</td>\n",
       "      <td>396</td>\n",
       "    </tr>\n",
       "    <tr>\n",
       "      <th>1</th>\n",
       "      <td>be</td>\n",
       "      <td>123</td>\n",
       "    </tr>\n",
       "    <tr>\n",
       "      <th>2</th>\n",
       "      <td>ask</td>\n",
       "      <td>51</td>\n",
       "    </tr>\n",
       "    <tr>\n",
       "      <th>3</th>\n",
       "      <td>have</td>\n",
       "      <td>42</td>\n",
       "    </tr>\n",
       "    <tr>\n",
       "      <th>4</th>\n",
       "      <td>do</td>\n",
       "      <td>33</td>\n",
       "    </tr>\n",
       "    <tr>\n",
       "      <th>...</th>\n",
       "      <td>...</td>\n",
       "      <td>...</td>\n",
       "    </tr>\n",
       "    <tr>\n",
       "      <th>118</th>\n",
       "      <td>insist</td>\n",
       "      <td>1</td>\n",
       "    </tr>\n",
       "    <tr>\n",
       "      <th>119</th>\n",
       "      <td>pay</td>\n",
       "      <td>1</td>\n",
       "    </tr>\n",
       "    <tr>\n",
       "      <th>120</th>\n",
       "      <td>change</td>\n",
       "      <td>1</td>\n",
       "    </tr>\n",
       "    <tr>\n",
       "      <th>121</th>\n",
       "      <td>buck</td>\n",
       "      <td>1</td>\n",
       "    </tr>\n",
       "    <tr>\n",
       "      <th>122</th>\n",
       "      <td>press</td>\n",
       "      <td>1</td>\n",
       "    </tr>\n",
       "  </tbody>\n",
       "</table>\n",
       "<p>123 rows × 2 columns</p>\n",
       "</div>"
      ],
      "text/plain": [
       "       Verb  Count\n",
       "0       say    396\n",
       "1        be    123\n",
       "2       ask     51\n",
       "3      have     42\n",
       "4        do     33\n",
       "..      ...    ...\n",
       "118  insist      1\n",
       "119     pay      1\n",
       "120  change      1\n",
       "121    buck      1\n",
       "122   press      1\n",
       "\n",
       "[123 rows x 2 columns]"
      ]
     },
     "execution_count": 80,
     "metadata": {},
     "output_type": "execute_result"
    }
   ],
   "source": [
    "com_verbs_df = pd.DataFrame(com_verbs).reset_index()\n",
    "com_verbs_df = com_verbs_df.rename(columns={\"index\": \"Verb\", 'verb': \"Count\"})\n",
    "com_verbs_df"
   ]
  },
  {
   "cell_type": "code",
   "execution_count": 81,
   "id": "d683033d",
   "metadata": {},
   "outputs": [
    {
     "data": {
      "image/png": "[encoded data removed]",
      "text/plain": [
       "<Figure size 432x288 with 1 Axes>"
      ]
     },
     "metadata": {
      "needs_background": "light"
     },
     "output_type": "display_data"
    }
   ],
   "source": [
    "top_verbs = com_verbs_df.sort_values(by='Count', ascending=False).head(10)\n",
    "\n",
    "plt.bar(top_verbs['Verb'], top_verbs['Count'])\n",
    "plt.title('Top 10 most common verbs')\n",
    "plt.xlabel('Verb')\n",
    "plt.ylabel('Count')\n",
    "plt.xticks(rotation=45)\n",
    "plt.show()"
   ]
  },
  {
   "cell_type": "markdown",
   "id": "7f9a2c33",
   "metadata": {},
   "source": [
    "### Character Interactions"
   ]
  },
  {
   "cell_type": "code",
   "execution_count": 82,
   "id": "a89b979a",
   "metadata": {},
   "outputs": [
    {
     "name": "stdout",
     "output_type": "stream",
     "text": [
      "Brett 48\n",
      "Bill 29\n",
      "Mike 22\n",
      "Cohn 32\n",
      "Don 1\n",
      "Romero 32\n",
      "Robert 6\n",
      "Jake 1\n",
      "Well 0\n",
      "Come 2\n",
      "Yes 0\n",
      "Montoya 15\n",
      "Let 0\n",
      "San 0\n",
      "How 1\n",
      "Paris 1\n",
      "Belmonte 6\n",
      "Did 0\n",
      "God 2\n",
      "Tell 0\n",
      "Sebastian 1\n",
      "Just 7\n",
      "Michael 2\n",
      "Braddocks 9\n",
      "Edna 4\n",
      "Do 12\n",
      "Harris 5\n",
      "Hello 0\n",
      "Jake. 0\n",
      "English 3\n"
     ]
    }
   ],
   "source": [
    "name_list = []\n",
    "for i in tfs_entries:\n",
    "    try:\n",
    "        print(i, len(verbs.loc[(~verbs.verb.str.contains('have') &\n",
    "                               ~verbs.verb.str.contains('be') & \n",
    "                               verbs.entity.str.contains(i)),:].groupby('entity').verb.value_counts()))\n",
    "        name_list.append(i)\n",
    "    except IndexError:\n",
    "        print(i, 0)   "
   ]
  },
  {
   "cell_type": "code",
   "execution_count": 83,
   "id": "99b87694",
   "metadata": {},
   "outputs": [
    {
     "data": {
      "text/plain": [
       "['Brett',\n",
       " 'Bill',\n",
       " 'Mike',\n",
       " 'Cohn',\n",
       " 'Don',\n",
       " 'Romero',\n",
       " 'Robert',\n",
       " 'Jake',\n",
       " 'Come',\n",
       " 'Montoya',\n",
       " 'How',\n",
       " 'Paris',\n",
       " 'Belmonte',\n",
       " 'God',\n",
       " 'Sebastian',\n",
       " 'Just',\n",
       " 'Michael',\n",
       " 'Braddocks',\n",
       " 'Edna',\n",
       " 'Do',\n",
       " 'Harris',\n",
       " 'English']"
      ]
     },
     "execution_count": 83,
     "metadata": {},
     "output_type": "execute_result"
    }
   ],
   "source": [
    "name_list"
   ]
  },
  {
   "cell_type": "code",
   "execution_count": 84,
   "id": "f3e9b22d",
   "metadata": {},
   "outputs": [],
   "source": [
    "name_list.remove('Come')\n",
    "name_list.remove('How')\n",
    "name_list.remove('Paris')\n",
    "name_list.remove('God')\n",
    "name_list.remove('Just')\n",
    "name_list.remove('Do')\n",
    "name_list.remove('Braddocks')\n",
    "name_list.remove('English')"
   ]
  },
  {
   "cell_type": "code",
   "execution_count": 85,
   "id": "711da4af",
   "metadata": {},
   "outputs": [
    {
     "data": {
      "text/plain": [
       "['Brett',\n",
       " 'Bill',\n",
       " 'Mike',\n",
       " 'Cohn',\n",
       " 'Don',\n",
       " 'Romero',\n",
       " 'Robert',\n",
       " 'Jake',\n",
       " 'Montoya',\n",
       " 'Belmonte',\n",
       " 'Sebastian',\n",
       " 'Michael',\n",
       " 'Edna',\n",
       " 'Harris']"
      ]
     },
     "execution_count": 85,
     "metadata": {},
     "output_type": "execute_result"
    }
   ],
   "source": [
    "name_list"
   ]
  },
  {
   "cell_type": "code",
   "execution_count": 86,
   "id": "62914fa2",
   "metadata": {},
   "outputs": [],
   "source": [
    "activities = np.zeros((14, 20))\n",
    "\n",
    "for i, e in enumerate(name_list):\n",
    "    for j, v in enumerate(top_20_com_verbs.index.values):\n",
    "        activities[i, j] = len(verbs.loc[(verbs.entity.str.contains(e) & verbs.verb.str.contains(v)),:])"
   ]
  },
  {
   "cell_type": "code",
   "execution_count": 87,
   "id": "aabf39c0",
   "metadata": {
    "scrolled": true
   },
   "outputs": [
    {
     "data": {
      "text/plain": [
       "<AxesSubplot:>"
      ]
     },
     "execution_count": 87,
     "metadata": {},
     "output_type": "execute_result"
    },
    {
     "data": {
      "image/png": "[encoded data removed]",
      "text/plain": [
       "<Figure size 1080x864 with 2 Axes>"
      ]
     },
     "metadata": {
      "needs_background": "light"
     },
     "output_type": "display_data"
    }
   ],
   "source": [
    "f, ax = plt.subplots(figsize=(15,12))\n",
    "sns.heatmap(activities, annot=True, xticklabels=top_20_com_verbs.index.values, yticklabels=name_list, vmax=15, ax=ax)"
   ]
  },
  {
   "cell_type": "code",
   "execution_count": 88,
   "id": "839f410d",
   "metadata": {},
   "outputs": [],
   "source": [
    "interact = pd.DataFrame()\n",
    "\n",
    "lemmatizer = WordNetLemmatizer()\n",
    "\n",
    "for name in name_list:\n",
    "    for i in np.argwhere([pos[0] == name])[:,1]:\n",
    "        if 'VB' in pos[1,i+1]:\n",
    "            for j in range(2, 10):\n",
    "                if pos[0, i+j] in name_list:\n",
    "                    df = pd.DataFrame.from_dict({'entity': [pos[0,i]], 'verb': [pos[0,i+1]],\n",
    "                                                 'target':[pos[0,i+j]], 'startpos': i, 'endpos':i+j})\n",
    "                    interact = pd.concat([interact, df], ignore_index=True)"
   ]
  },
  {
   "cell_type": "code",
   "execution_count": 89,
   "id": "8c900f9f",
   "metadata": {},
   "outputs": [
    {
     "data": {
      "text/html": [
       "<div>\n",
       "<style scoped>\n",
       "    .dataframe tbody tr th:only-of-type {\n",
       "        vertical-align: middle;\n",
       "    }\n",
       "\n",
       "    .dataframe tbody tr th {\n",
       "        vertical-align: top;\n",
       "    }\n",
       "\n",
       "    .dataframe thead th {\n",
       "        text-align: right;\n",
       "    }\n",
       "</style>\n",
       "<table border=\"1\" class=\"dataframe\">\n",
       "  <thead>\n",
       "    <tr style=\"text-align: right;\">\n",
       "      <th></th>\n",
       "      <th>entity</th>\n",
       "      <th>verb</th>\n",
       "      <th>target</th>\n",
       "      <th>startpos</th>\n",
       "      <th>endpos</th>\n",
       "    </tr>\n",
       "  </thead>\n",
       "  <tbody>\n",
       "    <tr>\n",
       "      <th>0</th>\n",
       "      <td>Brett</td>\n",
       "      <td>stood</td>\n",
       "      <td>Cohn</td>\n",
       "      <td>6979</td>\n",
       "      <td>6985</td>\n",
       "    </tr>\n",
       "    <tr>\n",
       "      <th>2</th>\n",
       "      <td>Brett</td>\n",
       "      <td>was</td>\n",
       "      <td>Cohn</td>\n",
       "      <td>22896</td>\n",
       "      <td>22905</td>\n",
       "    </tr>\n",
       "    <tr>\n",
       "      <th>3</th>\n",
       "      <td>Brett</td>\n",
       "      <td>smiled</td>\n",
       "      <td>Bill</td>\n",
       "      <td>24566</td>\n",
       "      <td>24569</td>\n",
       "    </tr>\n",
       "    <tr>\n",
       "      <th>4</th>\n",
       "      <td>Brett</td>\n",
       "      <td>turned</td>\n",
       "      <td>Bill</td>\n",
       "      <td>24714</td>\n",
       "      <td>24717</td>\n",
       "    </tr>\n",
       "    <tr>\n",
       "      <th>5</th>\n",
       "      <td>Brett</td>\n",
       "      <td>waved</td>\n",
       "      <td>Bill</td>\n",
       "      <td>25125</td>\n",
       "      <td>25134</td>\n",
       "    </tr>\n",
       "    <tr>\n",
       "      <th>...</th>\n",
       "      <td>...</td>\n",
       "      <td>...</td>\n",
       "      <td>...</td>\n",
       "      <td>...</td>\n",
       "      <td>...</td>\n",
       "    </tr>\n",
       "    <tr>\n",
       "      <th>151</th>\n",
       "      <td>Montoya</td>\n",
       "      <td>was</td>\n",
       "      <td>Romero</td>\n",
       "      <td>57773</td>\n",
       "      <td>57782</td>\n",
       "    </tr>\n",
       "    <tr>\n",
       "      <th>152</th>\n",
       "      <td>Montoya</td>\n",
       "      <td>went</td>\n",
       "      <td>Mike</td>\n",
       "      <td>62350</td>\n",
       "      <td>62357</td>\n",
       "    </tr>\n",
       "    <tr>\n",
       "      <th>153</th>\n",
       "      <td>Belmonte</td>\n",
       "      <td>watched</td>\n",
       "      <td>Romero</td>\n",
       "      <td>76772</td>\n",
       "      <td>76774</td>\n",
       "    </tr>\n",
       "    <tr>\n",
       "      <th>154</th>\n",
       "      <td>Edna</td>\n",
       "      <td>asked</td>\n",
       "      <td>Cohn</td>\n",
       "      <td>67586</td>\n",
       "      <td>67595</td>\n",
       "    </tr>\n",
       "    <tr>\n",
       "      <th>155</th>\n",
       "      <td>Edna</td>\n",
       "      <td>said</td>\n",
       "      <td>Mike</td>\n",
       "      <td>67852</td>\n",
       "      <td>67855</td>\n",
       "    </tr>\n",
       "  </tbody>\n",
       "</table>\n",
       "<p>146 rows × 5 columns</p>\n",
       "</div>"
      ],
      "text/plain": [
       "       entity     verb  target  startpos  endpos\n",
       "0       Brett    stood    Cohn      6979    6985\n",
       "2       Brett      was    Cohn     22896   22905\n",
       "3       Brett   smiled    Bill     24566   24569\n",
       "4       Brett   turned    Bill     24714   24717\n",
       "5       Brett    waved    Bill     25125   25134\n",
       "..        ...      ...     ...       ...     ...\n",
       "151   Montoya      was  Romero     57773   57782\n",
       "152   Montoya     went    Mike     62350   62357\n",
       "153  Belmonte  watched  Romero     76772   76774\n",
       "154      Edna    asked    Cohn     67586   67595\n",
       "155      Edna     said    Mike     67852   67855\n",
       "\n",
       "[146 rows x 5 columns]"
      ]
     },
     "execution_count": 89,
     "metadata": {},
     "output_type": "execute_result"
    }
   ],
   "source": [
    "interact = interact.loc[interact['entity'] != interact['target']]\n",
    "interact"
   ]
  },
  {
   "cell_type": "code",
   "execution_count": 90,
   "id": "2e5441ac",
   "metadata": {
    "scrolled": true
   },
   "outputs": [
    {
     "data": {
      "image/png": "[encoded data removed]",
      "text/plain": [
       "<Figure size 864x576 with 1 Axes>"
      ]
     },
     "metadata": {},
     "output_type": "display_data"
    }
   ],
   "source": [
    "import seaborn as sns\n",
    "\n",
    "sns.set()\n",
    "f, ax = plt.subplots(figsize=(12, 8))\n",
    "\n",
    "G = nx.Graph(ax=ax)\n",
    "G.add_nodes_from(name_list)\n",
    "G.add_edges_from(interact.loc[:, ['entity', 'target']].values)\n",
    "nx.draw(G, with_labels=True, font_weight='bold')\n"
   ]
  },
  {
   "cell_type": "code",
   "execution_count": 91,
   "id": "197afe51",
   "metadata": {},
   "outputs": [],
   "source": [
    "all_characters = ['Jake','Barnes','Brett','Ashley','Robert',\n",
    "                  'Cohn','Bill','Gorton','Mike','Campbell',\n",
    "                  'Pedro','Romero','Montoya','Frances','Clyne',\n",
    "                  'Belmonte','Stone']"
   ]
  },
  {
   "cell_type": "code",
   "execution_count": 92,
   "id": "b0538cb0",
   "metadata": {},
   "outputs": [],
   "source": [
    "interact = pd.DataFrame()\n",
    "\n",
    "lemmatizer = WordNetLemmatizer()\n",
    "\n",
    "for name in all_characters:\n",
    "    for i in np.argwhere([pos[0] == name])[:,1]:\n",
    "        if 'VB' in pos[1,i+1]:\n",
    "            for j in range(2, 10):\n",
    "                if pos[0, i+j] in all_characters:\n",
    "                    df = pd.DataFrame.from_dict({'entity': [pos[0,i]], 'verb': [pos[0,i+1]],\n",
    "                                                 'target':[pos[0,i+j]], 'startpos': i, 'endpos':i+j})\n",
    "                    interact = pd.concat([interact, df], ignore_index=True)"
   ]
  },
  {
   "cell_type": "code",
   "execution_count": 93,
   "id": "6e40f9e9",
   "metadata": {},
   "outputs": [
    {
     "data": {
      "image/png": "[encoded data removed]",
      "text/plain": [
       "<Figure size 864x576 with 1 Axes>"
      ]
     },
     "metadata": {},
     "output_type": "display_data"
    }
   ],
   "source": [
    "f, ax = plt.subplots(figsize=(12, 8))\n",
    "\n",
    "G2 = nx.Graph(ax=ax)\n",
    "G2.add_nodes_from(all_characters)\n",
    "G2.add_edges_from(interact.loc[:, ['entity', 'target']].values)\n",
    "nx.draw(G2, with_labels=True, font_weight='bold')"
   ]
  },
  {
   "cell_type": "code",
   "execution_count": null,
   "id": "8c29600a",
   "metadata": {},
   "outputs": [],
   "source": []
  },
  {
   "cell_type": "code",
   "execution_count": null,
   "id": "7fe12c81",
   "metadata": {},
   "outputs": [],
   "source": []
  }
 ],
 "metadata": {
  "kernelspec": {
   "display_name": "Python 3",
   "language": "python",
   "name": "python3"
  },
  "language_info": {
   "codemirror_mode": {
    "name": "ipython",
    "version": 3
   },
   "file_extension": ".py",
   "mimetype": "text/x-python",
   "name": "python",
   "nbconvert_exporter": "python",
   "pygments_lexer": "ipython3",
   "version": "3.8.8"
  }
 },
 "nbformat": 4,
 "nbformat_minor": 5
}
