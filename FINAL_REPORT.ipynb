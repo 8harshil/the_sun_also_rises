{
 "cells": [
  {
   "cell_type": "markdown",
   "id": "70d6d960",
   "metadata": {},
   "source": [
    "<div class=\"alert alert-block alert-success\">\n",
    "<h4><center>Harshil Patel (pmb5br@virginia.edu) DS 5001 Spring 2023</center></h4>\n",
    "</div>"
   ]
  },
  {
   "cell_type": "markdown",
   "id": "fb5ae8f7",
   "metadata": {},
   "source": [
    "<hr>"
   ]
  },
  {
   "cell_type": "markdown",
   "id": "527b3ad3",
   "metadata": {},
   "source": [
    "<div class=\"alert alert-block alert-info\">\n",
    "<h3><center> The Sun Also Rises, by Ernest Hemingway</center></h3>\n",
    "</div>"
   ]
  },
  {
   "cell_type": "markdown",
   "id": "265d08f1",
   "metadata": {},
   "source": [
    "<hr>"
   ]
  },
  {
   "cell_type": "markdown",
   "id": "624a344c",
   "metadata": {},
   "source": [
    "<div class=\"alert alert-block alert-warning\">\n",
    "<h4><center>Final Report: Content</center></h4> \n",
    "<ul>\n",
    "  <li>Intoduction</li>\n",
    "  <li>Source Data</li>\n",
    "  <li>Find the Location of Everything</li>\n",
    "  <li>Data Models</li>\n",
    "  <li>Exploration and Interpretation</li>\n",
    "  <li>Conclusion</li>\n",
    "  <li>References</li>    \n",
    "</ul>\n",
    "</div>"
   ]
  },
  {
   "cell_type": "markdown",
   "id": "aa099be3",
   "metadata": {},
   "source": [
    "<hr>"
   ]
  },
  {
   "cell_type": "markdown",
   "id": "4e9a6e42",
   "metadata": {},
   "source": [
    "<center><img src=\"images/cover.jpg\"/></center>\n",
    "Image Source: https://www.simonandschuster.com/books/The-Sun-Also-Rises/Ernest-Hemingway/9781982199524"
   ]
  },
  {
   "cell_type": "markdown",
   "id": "4479a5a1",
   "metadata": {},
   "source": [
    "<hr>"
   ]
  },
  {
   "cell_type": "markdown",
   "id": "24f149cf",
   "metadata": {},
   "source": [
    "### <center>Introduction </center>"
   ]
  },
  {
   "cell_type": "markdown",
   "id": "b7dc259b",
   "metadata": {},
   "source": [
    "#### Corpus Description"
   ]
  },
  {
   "cell_type": "markdown",
   "id": "9e983d05",
   "metadata": {},
   "source": [
    "- <b>Title:</b> The Sun Also Rises\n",
    "\n",
    "- <b>Author:</b> Ernest Hemingway\n",
    "\n",
    "- <b>Type of Work:</b> Novel\n",
    "\n",
    "- <b>Genre:</b> Modernist novel; travelogue\n",
    "\n",
    "- <b>Language:</b> English\n",
    "\n",
    "- <b>Time and Place Written:</b> Mid-1920s, Paris\n",
    "\n",
    "- <b>Date of First Publication:</b> 1926"
   ]
  },
  {
   "cell_type": "markdown",
   "id": "e0793a79",
   "metadata": {},
   "source": [
    "#### Summary"
   ]
  },
  {
   "cell_type": "markdown",
   "id": "49612cd6",
   "metadata": {},
   "source": [
    "The Sun Also Rises by Ernest Hemingway is a novel about a group of American and British expatriates who travel to Pamplona, Spain for the annual bullfighting fiesta. The protagonist, Jake Barnes, is a journalist who was injured during World War I and is now impotent. He is in love with Lady Brett Ashley, a divorced socialite who is free-spirited but selfish. Robert Cohn, a rich Jewish writer, is also in love with Brett, and he and Jake have a complicated relationship. Brett plans to marry Mike Campbell, a Scottish war veteran. Cohn becomes violent when he learns of the impending marriage, and Brett leaves for San Sebastian, Spain.\n",
    "\n",
    "Jake travels to Spain with his friend Bill Gorton to attend the fiesta in Pamplona. Cohn, Brett, and Mike also travel to Pamplona, but Cohn stays behind while the others join Jake and Bill. They enjoy fishing and drinking in a small town called Burguete before heading to Pamplona for the fiesta. Pedro Romero, a young bullfighter, distinguishes himself during the bullfights, and Brett falls in love with him. Cohn attacks Mike and Jake after learning that Brett is with Romero, and he also beats up Romero. Romero and Brett leave for Madrid together after the final bullfight. The novel ends with Jake planning to travel to Madrid to meet Brett."
   ]
  },
  {
   "cell_type": "markdown",
   "id": "e2ef16d2",
   "metadata": {},
   "source": [
    "#### Theme and Genre"
   ]
  },
  {
   "cell_type": "markdown",
   "id": "bdbcda8d",
   "metadata": {},
   "source": [
    "The theme of \"The Sun Also Rises\" revolves around the disillusionment and aimlessness of the Lost Generation, a term coined by Gertrude Stein to describe the generation of young people who came of age during World War I. The novel explores the characters' struggles with their identities, relationships, and purpose in a post-war world that lacks the sense of meaning and direction they had expected to find. Throughout the novel, Hemingway highlights the emptiness and futility of the characters' lives, as they engage in endless parties, and drinking, all while trying to fill a void that cannot be filled. The characters are lost in a world that has lost its sense of order and morality, and they struggle to find a purpose or direction for their lives.\n",
    "\n",
    "The genre of the novel is often classified as modernist fiction. It is characterized by a narrative style that is spare and precise, with a focus on objective description and understated emotion. Hemingway's writing style is marked by short, simple sentences, and the novel is devoid of any unnecessary or superfluous language. The novel also explores the theme of the post-war disillusionment of the Lost Generation, which was a common theme among modernist writers. Hemingway's portrayal of the characters' aimlessness and the search for meaning in a world that had lost its moral compass was a reflection of the sense of disillusionment that many people felt after the war."
   ]
  },
  {
   "cell_type": "markdown",
   "id": "284462de",
   "metadata": {},
   "source": [
    "#### Motivation and Research Question"
   ]
  },
  {
   "cell_type": "markdown",
   "id": "810ea06d",
   "metadata": {},
   "source": [
    "Last year, I had the opportunity to read the novel and was immediately intrigued by the diverse range of characters and their unique interactions. For instance, the complex relationship between Jake Barnes and Lady Brett Ashley caught my attention, as well as the character of Robert Cohn and his role in the story. As a result, I have decided to focus my project on analyzing this novel using the tools we have learned in class. Specifically, I aim to investigate whether these tools can effectively capture and convey the actions, connections, and significance of the main characters in the novel."
   ]
  },
  {
   "cell_type": "markdown",
   "id": "d15cd7e4",
   "metadata": {},
   "source": [
    "<hr>"
   ]
  },
  {
   "cell_type": "markdown",
   "id": "ed31f97f",
   "metadata": {},
   "source": [
    "### <center>Source Data</center>\n",
    "\n",
    "**Description of my text source file.**\n",
    "\n",
    "The novel \"The Sun Also Rises\" by Ernest Hemingway is available in plaintext format at the following URL: https://www.gutenberg.org/cache/epub/67138/pg67138.txt\n",
    "\n",
    "<b>1. Provenance: </b>\n",
    "\n",
    "The novel is available on Project Gutenberg, which is a website that offers over 60,000 free eBooks. The website's mission is to encourage the creation and distribution of eBooks, and it is maintained by volunteers. https://www.gutenberg.org/cache/epub/67138/pg67138.txt\n",
    "\n",
    "<b>2. Location: </b>\n",
    "\n",
    "Link to the source files in UVA Box: https://virginia.box.com/s/aneoke7q8zvsdyo6rpgjiqftichou5re\n",
    "\n",
    "<b>3. Description: </b>\n",
    "\n",
    "\"The Sun Also Rises\" is a novel written by Ernest Hemingway that explores the theme of the post-war disillusionment of the Lost Generation. The novel has around 10000 lines. The novel contains 19 chapters.\n",
    "\n",
    "<b>4. Format: </b>\n",
    "\n",
    "The source file for \"The Sun Also Rises\" is in plaintext format. It does not have any internal structure such as XML or CSV. The file contains the text of the novel in a linear format, with each chapter and paragraph separated by a blank line."
   ]
  },
  {
   "cell_type": "markdown",
   "id": "67e67ccf",
   "metadata": {},
   "source": [
    "<hr>"
   ]
  },
  {
   "cell_type": "markdown",
   "id": "8dd6dcf0",
   "metadata": {},
   "source": [
    "### <center>Find the Location of Everything"
   ]
  },
  {
   "cell_type": "markdown",
   "id": "155f6ece",
   "metadata": {},
   "source": [
    "The GitHub repository contains the data source, exploration code, and generated data tables, and can be accessed for reference. Additionally, the project is also available on UVA Box."
   ]
  },
  {
   "cell_type": "markdown",
   "id": "bb6cf5ec",
   "metadata": {},
   "source": [
    "<b>Link to Github Repository: </b>\n",
    "\n",
    "https://github.com/8harshil/the_sun_also_rises"
   ]
  },
  {
   "cell_type": "markdown",
   "id": "b6f46c94",
   "metadata": {},
   "source": [
    "<b>Link to UVA Box: </b>\n",
    "\n",
    "Put link here"
   ]
  },
  {
   "cell_type": "markdown",
   "id": "f34880fc",
   "metadata": {},
   "source": [
    "<div class=\"alert alert-block alert-warning\">\n",
    "<h4><center>Notebook 1: Content</center></h4> \n",
    "<ul>\n",
    "  <li>Importing Text File into a DataFrame</li>\n",
    "  <li>Removing Front and Back Matter</li>\n",
    "  <li>Length Distribution - Uncleaned and Cleaned Text</li>\n",
    "  <li>Grouping Lines into Chapters</li>\n",
    "  <li>Splitting Text into Chapters</li>\n",
    "  <li>Splitting Chapters into Paragraphs</li>\n",
    "  <li>Splitting Paragraphs into Sentences</li>\n",
    "  <li>Splitting Sentences into Tokens</li>\n",
    "  <li>Extracting Vocabulary</li>\n",
    "</ul>\n",
    "    \n",
    "Tables saved - lines, chaps, para, tokens, vocab\n",
    "    \n",
    "</div>"
   ]
  },
  {
   "cell_type": "markdown",
   "id": "31bdc120",
   "metadata": {},
   "source": [
    "<div class=\"alert alert-block alert-warning\">\n",
    "<h4><center>Notebook 2: Content</center></h4> \n",
    "<ul>\n",
    "  <li>Examining Probability Features of term_str</li>\n",
    "  <li>Entropy Computation</li>\n",
    "  <li>Sentence Prediction</li>\n",
    "  <li>Implementing Ngram Language Models</li>\n",
    "  <li>Exploring Speculations</li>\n",
    "  <li>Text Generation</li>\n",
    "  <li>Analyzing Redundancy for each n-gram model</li>\n",
    "  <li>Part of Speech Tagging</li>\n",
    "  <li>Character Interaction Analysis</li>\n",
    "  <li>Relationship between Noun and Verb</li>\n",
    "</ul>\n",
    "    \n",
    "Tables saved - vocabprobabilityfeatures, LM1, LM2, LM3, pos\n",
    "    \n",
    "</div>"
   ]
  },
  {
   "cell_type": "markdown",
   "id": "b8300421",
   "metadata": {},
   "source": [
    "<div class=\"alert alert-block alert-warning\">\n",
    "<h4><center>Notebook 3: Content</center></h4> \n",
    "<ul>\n",
    "  <li>Sentiment Analysis using NLP Techniques\n",
    "    <ul>\n",
    "      <li>Sentiment Analysis with Sentences</li>\n",
    "      <li>Sentiment Analysis with Tokens</li>\n",
    "      <li>Sentiment Analysis using VADER Library</li>\n",
    "      <li>Naive Bayes Classifier for Identifying Notable Text Features of Positive and Negative Sentiments</li>\n",
    "    </ul>\n",
    "  </li>\n",
    "  <li>Token-Time Matrix</li>\n",
    "  <li>Visualizing Token Frequency Distribution using Dispersion Plots and Kernel Density Estimation (KDE) Plots</li>\n",
    "  <li>Implementing Stemming using Porter, Snowball, and Lancaster Stemmers</li>\n",
    "</ul>\n",
    "    \n",
    "Tables saved - sents-sentimentsandsubjectivity, tokens-sentimentsandsubjectivity, VADERpos, VADERneg, tokens_nltk, vocab_nltk\n",
    "    \n",
    "</div>"
   ]
  },
  {
   "cell_type": "markdown",
   "id": "1e8bfdde",
   "metadata": {},
   "source": [
    "<div class=\"alert alert-block alert-warning\">\n",
    "<h4><center>Notebook 4: Content</center></h4> \n",
    "<ul>\n",
    "  <li>Part of Speech (POS) Grouping</li>\n",
    "  <li>Creating Annotated Token Table for Analysis</li>\n",
    "  <li>Word Length and Entropy</li>\n",
    "  <li>Zipf’s Law</li>\n",
    "  <li>TFIDF\n",
    "    <ul>\n",
    "      <li>Computing TF Variants</li>\n",
    "      <li>Document Frequency</li>\n",
    "      <li>Computing BOW TFIDF</li>\n",
    "      <li>Computing Vocabulary TFIDF_SUM</li>\n",
    "    </ul>\n",
    "  </li>\n",
    "  <li>Visualizing the TFIDF Analysis</li>\n",
    "  <li>Comparing Top Terms from Different Variants of TFIDF</li>\n",
    "  <li>Identifying Significant Terms using TFIDF Analysis</li>\n",
    "  <li>More Statistics</li>\n",
    "</ul>\n",
    "    \n",
    "Tables saved - nltk_tokens_FINAL\n",
    "    \n",
    "</div>"
   ]
  },
  {
   "cell_type": "markdown",
   "id": "0be5ee6b",
   "metadata": {},
   "source": [
    "<div class=\"alert alert-block alert-warning\">\n",
    "<h4><center>Notebook 5: Content</center></h4> \n",
    "<ul>\n",
    "  <li>Using SciKit Learn for Topic Modeling Analysis</li>\n",
    "  <li>Obtaining TFIDF from Bag-of-Words</li>\n",
    "  <li>Creating a Normalized Table for Topic Modeling</li>\n",
    "  <li>Performing LDA with SciKit Learn</li>\n",
    "    <ul>\n",
    "        <li>Converting Tokens Back to Document Table</li>\n",
    "        <li>Generating LDA Model</li>\n",
    "        <li>Examining Theta for Topic Modeling</li>\n",
    "        </ul>\n",
    "  <li>Calculating Topic Entropy Over Terms</li>\n",
    "  <li>Calculating Document Entropy Over Topics</li>\n",
    "  <li>Inspecting Topic Modeling Results</li>\n",
    "  <li>Analyzing Most Frequently Appearing Terms for Topic Modeling</li>\n",
    "  <li>Sorting Topics by Document Weight for Topic Modeling</li>\n",
    "</ul>\n",
    "    \n",
    "Tables saved - DTM, docs, PHI, THETA\n",
    "    \n",
    "</div>"
   ]
  },
  {
   "cell_type": "markdown",
   "id": "34a52ed2",
   "metadata": {},
   "source": [
    "<div class=\"alert alert-block alert-warning\">\n",
    "<h4><center>Notebook 6: Content</center></h4> \n",
    "<ul>\n",
    "  <li>Prepare data for PCA</li>\n",
    "  <li>Compute reduced version of TFIDF table</li>\n",
    "  <li>PCA Process and function</li>\n",
    "  <li>Visualization of PCs and Loadings</li>\n",
    "  <li>Word Embedding using GENSIM and TSNE plot function</li>\n",
    "  <li>Scatterplot for visualization</li>\n",
    "  <li>Inspection of analogies in the generated model</li>\n",
    "</ul>\n",
    "    \n",
    "Tables saved - corpus, TFIDF, DFIDF, BOW, LIB, tokens_final\n",
    "    \n",
    "</div>"
   ]
  },
  {
   "cell_type": "markdown",
   "id": "140d7494",
   "metadata": {},
   "source": [
    "<hr>"
   ]
  },
  {
   "cell_type": "markdown",
   "id": "7eebd49e",
   "metadata": {},
   "source": [
    "### <center>Data Model</center>\n",
    "\n",
    "Below are the description of **some** important analytical tables that I generated in the process of tokenization, annotation, and analysis of my corpus.\n",
    "\n",
    "I have provided a list of tables with their field names and their definition, along with URLs to each associated CSV file."
   ]
  },
  {
   "cell_type": "markdown",
   "id": "c94c5fcc",
   "metadata": {},
   "source": [
    "- <b>Table Name:</b> TOKENS.csv\n",
    "\n",
    "- <b>Brief Description:</b> \n",
    "\n",
    "- <b>Field names:</b> \n",
    "<center><img src=\"images/1.png\"/></center>\n",
    "\n",
    "- <b>URL:</b> "
   ]
  },
  {
   "cell_type": "markdown",
   "id": "960827e9",
   "metadata": {},
   "source": [
    "- <b>Table Name:</b> VOCAB.csv\n",
    "\n",
    "- <b>Brief Description:</b> \n",
    "\n",
    "- <b>Field names:</b> \n",
    "<center><img src=\"images/1.png\"/></center>\n",
    "\n",
    "- <b>URL:</b> "
   ]
  },
  {
   "cell_type": "markdown",
   "id": "480f5ced",
   "metadata": {},
   "source": [
    "- <b>Table Name:</b> \n",
    "\n",
    "- <b>Brief Description:</b> \n",
    "\n",
    "- <b>Field names:</b> \n",
    "<center><img src=\"images/1.png\"/></center>\n",
    "\n",
    "- <b>URL:</b> "
   ]
  },
  {
   "cell_type": "markdown",
   "id": "71cd741f",
   "metadata": {},
   "source": [
    "<hr>"
   ]
  },
  {
   "cell_type": "markdown",
   "id": "a1a82086",
   "metadata": {},
   "source": [
    "### <center>Exploration and Interpretation</center>"
   ]
  },
  {
   "cell_type": "markdown",
   "id": "552f69c9",
   "metadata": {},
   "source": [
    "After obtaining the text file from the Gutenberg website, an initial exploration of the text was conducted. The total number of lines in the file was over 10,000, with an average length of approximately 60 characters per line. Upon closer examination, it became evident that many of these lines were unnecessary and contained no content. The distribution of line lengths in the text revealed a common structural pattern in western literary traditions, wherein content is organized into paragraphs separated by two or more empty lines. This structural pattern serves both a meaningful and strategic purpose in the text.\n",
    "\n",
    "To better understand the distribution of line lengths, length distribution graphs were generated, illustrating the clear segregation of lines with and without content. Furthermore, the uncleaned text demonstrated a bimodal distribution on both ends, while the cleaned text exhibited a unimodal distribution with a single peak near the average length of each sentence. These findings suggest that the cleaning of the text was necessary to accurately analyze the content and meaning of the novel.\n",
    "\n",
    "<center><img src=\"images/1.png\"/></center>\n",
    "<center><img src=\"images/2.png\"/></center>\n",
    "<center><img src=\"images/3.png\"/></center>\n",
    "<center><img src=\"images/4.png\"/></center>\n",
    "\n",
    "After exploring the text and its structure, I also delved into the vocabulary used in the novel. The most common word used in English, \"the,\" was also the most frequently used word in \"The Sun Also Rises.\" Its frequent use is not surprising, as it is an essential word that is used in most sentences to denote a definite article. The second most common word, \"I,\" also provides valuable insight into the narrative structure of the novel. As a first-person narrator, the use of \"I\" is expected to be high, and its ranking as the second most common word reinforces this assumption.\n",
    "\n",
    "Additionally, I calculated the redundancy of the English language used in the novel, which turned out to be 28%. This percentage is lower than Shannon's estimate for English language in general, which is around 50%. The lower redundancy suggests that the language used in the novel is relatively less predictable and may have a more complex structure. This analysis provides valuable information about the writing style and vocabulary used by Hemingway in \"The Sun Also Rises.\"\n",
    "\n",
    "<center><img src=\"images/5.png\"/></center>\n",
    "\n",
    "Moving forward, I will use sentiment analysis to examine the emotions and attitudes expressed by the characters in the novel, which will help me answer my research question regarding the accuracy of tools and algorithms in capturing the characters' actions, connections, and importance."
   ]
  },
  {
   "cell_type": "markdown",
   "id": "3c1a8b91",
   "metadata": {},
   "source": [
    "<b>Sentiment Analysis</b>\n",
    "\n",
    "I needed to understand the overall sentiment of the text and how it related to each character. To do this, I used the Natural Language Toolkit (NLTK) in Python to analyze the sentiment of each sentence in the novel. The sentiment scores were then aggregated for each sentence and token to understand their overall sentiment throughout the text.\n",
    "\n",
    "*Sentiment analysis is a computational technique that assigns a numerical value to text based on the positivity, negativity, or neutrality of the language used. In this analysis, sentiment scores are assigned on a scale of -1 to 1, where -1 indicates a negative sentiment, 0 indicates a neutral sentiment, and 1 indicates a positive sentiment.*\n",
    "\n",
    "Based on the sentiment analysis conducted on the text, the majority of the sentences in the novel fall into the neutral category, with a sentiment score of 0. However, there are still significant portions of the novel that fall into both positive and negative sentiment categories.\n",
    "\n",
    "Here, it's important to note that sentiment analysis is not a perfect science and is subject to limitations and biases. The accuracy of the sentiment analysis results depends on factors such as the quality of the text data, the sentiment analysis algorithm used, and the context in which the text is used.\n",
    "\n",
    "<center><img src=\"images/22.png\"/></center>\n",
    "\n",
    "Subsequently, the sentiments and subjectivity scores of each sentence and term were examined in order to gain a comprehensive understanding of the various types of sentiments and subjectivity that are present within the novel.\n",
    "\n",
    "<center><img src=\"images/23.png\"/></center>\n",
    "<center><img src=\"images/24.png\"/></center>\n",
    "<center><img src=\"images/27.png\"/></center>\n",
    "\n",
    "After analyzing the sentiment and subjectivity score of each sentence in the novel \"The Sun Rises\", it can be observed that the average opinion score of the sentence is 0.054798 and the average subjectivity score is 0.257702. The result suggests that most sentences in the novel are neutral and do not contain very positive or negative emotions.\n",
    "\n",
    "Since the novel had certain negative themes, such as Brett's infidelity, Jake's impotence, and Cohn's jealousy, I initially expected that the sentiment score would be skewed towards the negative. However, the results indicate that the novel has a balanced approach to emotions and focuses on the experiences and interactions of the characters rather than exploiting the negative aspects.\n",
    "\n",
    "On the other hand, the average subjectivity score is slightly higher than the sentiment score, which shows that there are relatively many sentences containing some kind of opinion. This may be due to cases where characters express their feelings to each other or express their opinions on certain topics.\n",
    "\n",
    "In addition to this, the nature of the characters adds subjectivity and emotions to the novel. Characters are shown bragging about their love, time and pampering, which contributes to subjectivity. For example, Brett's many love affairs, Jake's love for Brett, and the various parties thrown throughout the novel are just a few examples that affect emotion and subjectivity.\n",
    "\n",
    "Taken together, these observations show the complexity and balance of the novel's tone and theme. The narrative structure of the novel is mostly neutral, but interspersed with many subjective and opinionated sentences that reflect the complex emotions and interactions of the characters.\n",
    "\n",
    "<center><img src=\"images/28.png\"/></center>\n",
    "\n",
    "The above image depicts the ratio of the occurrence of words in negative instances to that in positive instances. For instance, it can be inferred that the term \"hell\" appears 26.9 times more frequently in negative instances compared to positive instances. Conversely, the term \"hand\" appears 6.9 times more frequently in positive instances than in negative instances. This enables us to identify the most informative features of the novel under consideration."
   ]
  },
  {
   "cell_type": "markdown",
   "id": "c758cbcb",
   "metadata": {},
   "source": [
    "<b>Characters Interactions</b>\n",
    "\n",
    "Now that we know the tone of the novel, analyzing characters and their interactions with each other is another crucial aspect of exploring the themes and plot of the novel. The relationships between characters often drive the narrative forward and reveal important insights into their motivations and personalities. By examining how characters interact with one another, we can gain a deeper understanding of their roles in the story and the themes that the author is exploring.\n",
    "\n",
    "To gain insight into the characters that feature most prominently, I created a bar graph to display the frequency of each character's name in the novel. Given that the story centers around the lives and experiences of its characters, this information can provide valuable insight into the narrative structure and themes of the book. According to the graph, characters such as Brett, Bill, Mike, and Cohn feature prominently, with Romero also appearing frequently. **Interestingly, despite being the novel's protagonist, Jake Barnes does not top the list and is instead ranked eighth. This is likely due to the fact that the story is told from his perspective, as evidenced by the frequent use of the first-person pronoun \"I\".** Overall, this analysis provides useful information about the major players in the novel and how they contribute to the story's themes and motifs.\n",
    "\n",
    "<center><img src=\"images/6.png\"/></center>\n",
    "<center><img src=\"images/7.png\"/></center>\n",
    "\n",
    "As my primary objective pertains to the characters and their importance in the novel, I subsequently opted to generate a bar graph consisting of the most frequently occurring nouns and verbs.\n",
    "\n",
    "<center><img src=\"images/8.png\"/></center>\n",
    "\n",
    "The above heatmap presents the correlation between the primary characters and verbs in the novel. The characters with the most verbs associated with them are Brett, Bill, Mike, and Cohn, which confirms the findings from the previous bar graph. It can be concluded that characters who perform more actions tend to be mentioned more frequently in the book.\n",
    "\n",
    "Although I expected the verb \"say\" to be more prominent due to the presence of melodrama and couple fights in the novel, we see that the heatmap shows more generic verbs. This aligns with the general nature of novels. Furthermore, the novel also explores themes such as affairs between characters, such as the relationship between Brett and Jake, and the question of morality that is frequently raised.\n",
    "\n",
    "It is also interesting to note that secondary characters such as Romero, Edna, and Montoya also have a considerable number of verbs associated with them, indicating that they play a significant role in the story despite being secondary characters.\n",
    "\n",
    "<center><img src=\"images/9.png\"/></center>\n",
    "\n",
    "The network graph that I generated serves as a tool to analyze the relationships between the main characters in the novel. By observing the connections and proximity of nodes, we can identify the significance of each character and their relationships with other characters.\n",
    "\n",
    "The plot shows that some characters have stronger connections than others, with those closer to the center being more relevant to the story. For example, we see that Bill, Jake, and Mike are closely connected, indicating their significant relationship in the novel. This can be attributed to their shared experiences as veterans of World War I, which is a major theme in the novel.\n",
    "\n",
    "Furthermore, the graph reveals the relationships between other characters, such as Brett and Pedro, who have a strong connection despite their different backgrounds. The plot also hints at a potential instance between Cohn and Pedro. Additionally, we see that Ashley and Campbell are related to Brett in the story, adding to the complexity of the characters' relationships.\n",
    "\n",
    "Moreover, the network graph highlights some characters who are less involved in the main storyline, such as Stone and Clyne, who appear to be at a greater distance from the central nodes. This information may provide further insight into the significance of these characters in the novel.\n",
    "\n",
    "Overall, the network graph allows us to gain a better understanding of the interrelationships between the characters in the novel, which is crucial to the analysis of the plot and themes.\n",
    "\n",
    "<center><img src=\"images/11.png\"/></center>"
   ]
  },
  {
   "cell_type": "markdown",
   "id": "a7774d81",
   "metadata": {},
   "source": [
    "<b>Visualization of Narrative Time</b>\n",
    "\n",
    "To analyze the frequency of occurrence of each character throughout the novel, we can represent it visually using dispersion plots, as presented in the this section.\n",
    "\n",
    "<center><img src=\"images/12.png\"/></center>\n",
    "<center><img src=\"images/13.png\"/></center>\n",
    "\n",
    "The dispersion plots above provide us with a visual representation of how often the main characters, such as Brett,  Jake, and Cohn, are mentioned throughout the novel. We can see that the plots of the main characters are denser than those of the secondary or later introduced characters, such as Romero and Montoya, indicating their greater significance in the story.\n",
    "\n",
    "<center><img src=\"images/17.png\"/></center>\n",
    "\n",
    "Upon examining the dispersion plot containing all characters, we can see that some characters, such as Brett, Bill, Mike, and Cohn, even Romero here, have a denser plot compared to the others. This indicates that they appear more frequently throughout the novel, while characters with less dense plots, such as Ashley and Clyne, may have a more minor role in the story. Additionally, the plot reveals the general pattern of how frequently the characters appear in the novel, with some having a consistent presence while others only make occasional appearances.\n",
    "\n",
    "<center><img src=\"images/18.png\"/></center>\n",
    "\n",
    "The KDE plot above shows the density of appearances of two main characters, Jake and Brett, throughout the novel. The plot indicates that Jake appears more frequently at the beginning and end of the novel, while Brett has a more consistent appearance throughout the story. This observation could be connected with the fact that Jake is the narrator and protagonist of the story, and therefore has more presence in the beginning and end where the story's main events take place. On the other hand, Brett's consistent presence could be attributed to her crucial role in the story's plot as the main love interest and catalyst for the conflicts and tensions between the characters. The different shapes of the curves for each character could also indicate the changing nature of their character arc throughout the novel. Overall, analyzing the KDE plots for each character could provide insights into their significance and impact on the story's development.\n",
    "\n",
    "<center><img src=\"images/19.png\"/></center>\n",
    "\n",
    "In the KDE plot above, we observe the distribution of the occurrences of Brett and Pedro. The blue line represents the density of Brett's occurrences, while the orange line represents the density of Romero's occurrences. From the plot, we can see that Brett has a much higher occurrence density compared to Romero. This indicates that Brett is a more prominent character in the novel compared to Romero. This observation aligns with the summary of the novel, where Brett is introduced as one of the main characters who has multiple relationships with other characters in the story. On the other hand, Romero is a minor character who is involved in a short affair with Brett at the end of the story.\n",
    "\n",
    "<center><img src=\"images/21.png\"/></center>\n",
    "Jake (in blue) and Cohn (in orange), We can see that Jake has a bimodal distribution, with two peaks in the beginning and towards the end of the novel. This is consistent with Jake's role as the protagonist and narrator of the story. Cohn, on the other hand, has a relatively low and uniform distribution throughout the novel, with a slight peak towards the middle. This distribution reflects Cohn's status as an outsider in the group of expatriates, and his inability to fully integrate into their world. Additionally, Cohn's low and uniform distribution may be due to the fact that he is often the subject of negative comments and criticism from the other characters, leading to fewer mentions overall.\n",
    "\n",
    "Overall, the KDE plot highlights the Jake as a central character with a complex and evolving role, while Cohn remains an outsider and who is often the target of criticism from the other characters.\n"
   ]
  },
  {
   "cell_type": "markdown",
   "id": "a2287ed4",
   "metadata": {},
   "source": [
    "<b>Book Summary</b>\n",
    "\n",
    "Finally, to gain further insights into the novel, I turned to natural language processing techniques, specifically using the Natural Language Toolkit (NLTK) package. By analyzing the frequency of key words and phrases, and employing NLTK, I generated a short summary of the novel.\n",
    "\n",
    "\n",
    "<center><img src=\"images/26.png\"/></center>\n",
    "\n",
    "The sentences \"Listen, Jake,\" he said\" and \"Old Jake, the human punching-bag\" are directly quoted from the novel. The sentence \"What possessed you to bring her?\" is similar to a conversation that takes place between Jake and Brett in the novel where Brett asks why Jake brought a woman named Georgette to Spain with them. The sentence \"You're getting damned romantic\" is also similar to a conversation in the novel between Brett and Jake where Brett accuses Jake of being romantic. The sentence \"I must bathe,\" said Brett is similar to Brett mentioning that she needs to bathe in the novel. The sentence \"There were these bulls coming in,\" Mike said is similar to a conversation between Mike and Bill in the novel where Mike describes seeing bulls running in the streets. Finally, the sentence \"Let's lay off that,\" Bill said is similar to a conversation between Jake and Bill in the novel where Bill asks Jake to stop making fun of him. Although the generated summary using Natural Language Processing techniques may not be perfect, it still provides a decent summary when compared to one written by someone who has read the novel, and it is intriguing to observe the accuracy of the summary in capturing the characters and events of the novel."
   ]
  },
  {
   "cell_type": "markdown",
   "id": "3fbbf606",
   "metadata": {},
   "source": [
    "<hr>"
   ]
  },
  {
   "cell_type": "markdown",
   "id": "31e4d732",
   "metadata": {},
   "source": [
    "### <center>Conclusion</center>"
   ]
  },
  {
   "cell_type": "markdown",
   "id": "09dc6a5c",
   "metadata": {},
   "source": [
    "In conclusion, our exploration using various data analysis techniques provided us with interesting insights into the characters and plot of the novel \"The Sun Also Rises.\" The topic modeling showed us that the themes of love, relationships, and identity are central to the novel, and the network analysis helped us identify the relationships between the characters. The KDE plots gave us a visual representation of the physical descriptions of the characters, and the NLP techniques were able to generate a summary that aligned with the persona of the characters.  Moreover, our exploration was able to shed light on the key themes and characters in the novel, and provided us with a deeper understanding of the story. As for the research question of whether the data analysis techniques can provide us with meaningful insights into the novel, the answer is a resounding yes. Our exploration demonstrated that these techniques can be used effectively to analyze literary works and extract valuable information from them.\n",
    "\n",
    "In terms of future works, one area that could be explored further is the sentiment analysis of the novel. Sentiment analysis could help us understand the emotions and attitudes of the characters towards each other, and towards the events in the story. Additionally, exploring the use of other machine learning techniques such as deep learning could further enhance our understanding of the novel."
   ]
  },
  {
   "cell_type": "markdown",
   "id": "ba646431",
   "metadata": {},
   "source": [
    "<hr>"
   ]
  },
  {
   "cell_type": "markdown",
   "id": "417b7b92",
   "metadata": {},
   "source": [
    "### <center>References</center>"
   ]
  },
  {
   "cell_type": "markdown",
   "id": "e359a1b1",
   "metadata": {},
   "source": [
    "[1] https://github.com/ontoligent/DS5001-2023-01-R\n",
    "\n",
    "[2] https://towardsdatascience.com/sentiment-analysis-introduction-to-naive-bayes-algorithm-96831d77ac91\n",
    "\n",
    "[3] https://medium.com/analytics-vidhya/simple-text-summarization-using-nltk-eedc36ebaaf8\n",
    "\n",
    "[4] https://github.com/jasminedogu/Exploratory-Text-Analytics\n",
    "\n",
    "[5] https://www.sparknotes.com/lit/sun/\n",
    "\n",
    "[6] https://en.wikipedia.org/wiki/The_Sun_Also_Rises\n",
    "\n",
    "[7] https://www.britannica.com/topic/The-Sun-Also-Rises"
   ]
  },
  {
   "cell_type": "markdown",
   "id": "b727fee2",
   "metadata": {},
   "source": [
    "<hr>"
   ]
  }
 ],
 "metadata": {
  "kernelspec": {
   "display_name": "Python 3",
   "language": "python",
   "name": "python3"
  },
  "language_info": {
   "codemirror_mode": {
    "name": "ipython",
    "version": 3
   },
   "file_extension": ".py",
   "mimetype": "text/x-python",
   "name": "python",
   "nbconvert_exporter": "python",
   "pygments_lexer": "ipython3",
   "version": "3.8.8"
  }
 },
 "nbformat": 4,
 "nbformat_minor": 5
}
