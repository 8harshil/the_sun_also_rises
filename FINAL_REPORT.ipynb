{
 "cells": [
  {
   "cell_type": "markdown",
   "id": "70d6d960",
   "metadata": {},
   "source": [
    "<div class=\"alert alert-block alert-success\">\n",
    "<h4><center>Harshil Patel (pmb5br@virginia.edu) DS 5001 Spring 2023</center></h4>\n",
    "</div>"
   ]
  },
  {
   "cell_type": "markdown",
   "id": "fb5ae8f7",
   "metadata": {},
   "source": [
    "<hr>"
   ]
  },
  {
   "cell_type": "markdown",
   "id": "527b3ad3",
   "metadata": {},
   "source": [
    "<div class=\"alert alert-block alert-info\">\n",
    "<h3><center> The Sun Also Rises, by Ernest Hemingway</center></h3>\n",
    "</div>"
   ]
  },
  {
   "cell_type": "markdown",
   "id": "265d08f1",
   "metadata": {},
   "source": [
    "<hr>"
   ]
  },
  {
   "cell_type": "markdown",
   "id": "624a344c",
   "metadata": {},
   "source": [
    "<div class=\"alert alert-block alert-warning\">\n",
    "<h4><center>Final Report: Content</center></h4> \n",
    "<ul>\n",
    "  <li>Intoduction</li>\n",
    "  <li>Source Data</li>\n",
    "    <ul>\n",
    "      <li>Provenance</li>\n",
    "      <li>Location</li>\n",
    "      <li>Description</li>\n",
    "      <li>Format</li>        \n",
    "    </ul>\n",
    "  <li>Data Models</li>\n",
    "  <li>Exploration</li>\n",
    "  <li>Interpretation</li>\n",
    "  <li>References</li>    \n",
    "</ul>\n",
    "</div>"
   ]
  },
  {
   "cell_type": "markdown",
   "id": "aa099be3",
   "metadata": {},
   "source": [
    "<hr>"
   ]
  },
  {
   "cell_type": "markdown",
   "id": "4e9a6e42",
   "metadata": {},
   "source": [
    "A Jupyter notebook called FINAL_REPORT.ipynb describing your work and interpreting its results along with links to all the files listed above. This report should be written using Markdown text cells and embedded graphics from your other notebooks to illustrate points. Do not reference images that are not listed in the notebook. You may use images to show images in the notebook if you don't want to include the code there. Include citations for any references made in the notebook."
   ]
  },
  {
   "cell_type": "markdown",
   "id": "4479a5a1",
   "metadata": {},
   "source": [
    "<hr>"
   ]
  },
  {
   "cell_type": "markdown",
   "id": "24f149cf",
   "metadata": {},
   "source": [
    "Introduction. Describe the nature of your corpus and the question(s) you've asked of the data."
   ]
  },
  {
   "cell_type": "markdown",
   "id": "6532cd57",
   "metadata": {},
   "source": []
  },
  {
   "cell_type": "markdown",
   "id": "ef8deaa4",
   "metadata": {},
   "source": []
  },
  {
   "cell_type": "markdown",
   "id": "d15cd7e4",
   "metadata": {},
   "source": [
    "<hr>"
   ]
  },
  {
   "cell_type": "markdown",
   "id": "ed31f97f",
   "metadata": {},
   "source": [
    "Source Data. Provide a description of all relativant source files and describe the following features for each source file:\n",
    "\n",
    "1. Provenance: Where did they come from? Describe the website or other source and provide relevant URLs.\n",
    "\n",
    "2. Location: Provide a link to the source files in UVA Box.\n",
    "\n",
    "3. Description: What is the general subject matter of the corpus? How many observations are there? What is the average document length?\n",
    "\n",
    "4. Format: A description of both the file formats of the source files, e.g., plaintext, XML, CSV, etc., and the internal structure where applicable. For - example, if XML then specify document type (e.g., TEI or XHTML).\n"
   ]
  },
  {
   "cell_type": "markdown",
   "id": "164c7019",
   "metadata": {},
   "source": []
  },
  {
   "cell_type": "markdown",
   "id": "5b4245e3",
   "metadata": {},
   "source": []
  },
  {
   "cell_type": "markdown",
   "id": "140d7494",
   "metadata": {},
   "source": [
    "<hr>"
   ]
  },
  {
   "cell_type": "markdown",
   "id": "7eebd49e",
   "metadata": {},
   "source": [
    "Data Model. Describe the analytical tables you generated in the process of tokenization, annotation, and analysis of your corpus. You provide a list of tables with field names and their definition, along with URLs to each associated CSV file."
   ]
  },
  {
   "cell_type": "markdown",
   "id": "a90d7b0e",
   "metadata": {},
   "source": []
  },
  {
   "cell_type": "markdown",
   "id": "c94c5fcc",
   "metadata": {},
   "source": []
  },
  {
   "cell_type": "markdown",
   "id": "71cd741f",
   "metadata": {},
   "source": [
    "<hr>"
   ]
  },
  {
   "cell_type": "markdown",
   "id": "a1a82086",
   "metadata": {},
   "source": [
    "Exploration. Describe each of your explorations, such as PCA and topic models. For each, include the relevant parameters and hyperparemeters used to generate each model and visualization. For your visualizations, you should use at least three (but likely more) of the following visualization types:\n",
    "\n",
    "- Hierarchical cluster diagrams\n",
    "- Heatmaps showing correlations\n",
    "- Scatter plots\n",
    "- KDE plots\n",
    "- Dispersion plots\n",
    "- t-SNE plots"
   ]
  },
  {
   "cell_type": "markdown",
   "id": "552f69c9",
   "metadata": {},
   "source": []
  },
  {
   "cell_type": "markdown",
   "id": "c758cbcb",
   "metadata": {},
   "source": []
  },
  {
   "cell_type": "markdown",
   "id": "3fbbf606",
   "metadata": {},
   "source": [
    "<hr>"
   ]
  },
  {
   "cell_type": "markdown",
   "id": "31e4d732",
   "metadata": {},
   "source": [
    "Interpretation. Provide your interpretation of the results of exploration, and any conclusion if you are comfortable making them."
   ]
  },
  {
   "cell_type": "markdown",
   "id": "09dc6a5c",
   "metadata": {},
   "source": []
  },
  {
   "cell_type": "markdown",
   "id": "472607bc",
   "metadata": {},
   "source": []
  },
  {
   "cell_type": "markdown",
   "id": "ba646431",
   "metadata": {},
   "source": [
    "<hr>"
   ]
  },
  {
   "cell_type": "markdown",
   "id": "417b7b92",
   "metadata": {},
   "source": []
  },
  {
   "cell_type": "markdown",
   "id": "e359a1b1",
   "metadata": {},
   "source": []
  }
 ],
 "metadata": {
  "kernelspec": {
   "display_name": "Python 3",
   "language": "python",
   "name": "python3"
  },
  "language_info": {
   "codemirror_mode": {
    "name": "ipython",
    "version": 3
   },
   "file_extension": ".py",
   "mimetype": "text/x-python",
   "name": "python",
   "nbconvert_exporter": "python",
   "pygments_lexer": "ipython3",
   "version": "3.8.8"
  }
 },
 "nbformat": 4,
 "nbformat_minor": 5
}
